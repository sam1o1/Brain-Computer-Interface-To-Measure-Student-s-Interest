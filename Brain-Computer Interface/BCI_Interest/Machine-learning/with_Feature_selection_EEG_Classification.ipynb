{
  "nbformat": 4,
  "nbformat_minor": 0,
  "metadata": {
    "colab": {
      "name": "without_feature_reduction_EEG_Classification.ipynb",
      "provenance": [],
      "collapsed_sections": []
    },
    "kernelspec": {
      "display_name": "Python 3",
      "name": "python3"
    }
  },
  "cells": [
    {
      "cell_type": "markdown",
      "metadata": {
        "id": "D2zt8fRDolMB"
      },
      "source": [
        "### Importing libraries\n",
        "\n"
      ]
    },
    {
      "cell_type": "code",
      "metadata": {
        "id": "AXtX9lM8KBol",
        "colab": {
          "base_uri": "https://localhost:8080/"
        },
        "outputId": "da2c3159-b82f-407e-c3b8-33b1cf5dbf78"
      },
      "source": [
        "import pandas as pd\n",
        "import numpy as np\n",
        "import matplotlib.pyplot as plt\n",
        "%matplotlib inline\n",
        "import seaborn as sns\n",
        "from mlxtend.feature_selection import SequentialFeatureSelector as sfs\n",
        "from sklearn.metrics import accuracy_score as ac\n",
        "from sklearn.discriminant_analysis import LinearDiscriminantAnalysis as LDA\n",
        "from sklearn.svm import SVC\n",
        "from sklearn.neighbors import KNeighborsClassifier as KNN\n",
        "from sklearn.ensemble import RandomForestClassifier as RFC \n",
        "from sklearn.decomposition import PCA\n",
        "from sklearn.metrics import confusion_matrix\n",
        "from sklearn.metrics import classification_report\n",
        "\n",
        "\n"
      ],
      "execution_count": null,
      "outputs": [
        {
          "output_type": "stream",
          "text": [
            "/usr/local/lib/python3.7/dist-packages/sklearn/externals/joblib/__init__.py:15: FutureWarning: sklearn.externals.joblib is deprecated in 0.21 and will be removed in 0.23. Please import this functionality directly from joblib, which can be installed with: pip install joblib. If this warning is raised when loading pickled models, you may need to re-serialize those models with scikit-learn 0.21+.\n",
            "  warnings.warn(msg, category=FutureWarning)\n"
          ],
          "name": "stderr"
        }
      ]
    },
    {
      "cell_type": "markdown",
      "metadata": {
        "id": "hJCZPp2moyYW"
      },
      "source": [
        "### Importing Dataset "
      ]
    },
    {
      "cell_type": "code",
      "metadata": {
        "id": "yWC2AZuXKy65"
      },
      "source": [
        "eeg_df=pd.read_csv('/content/drive/MyDrive/Graduation_data/Graduation_01.csv')"
      ],
      "execution_count": null,
      "outputs": []
    },
    {
      "cell_type": "code",
      "metadata": {
        "colab": {
          "base_uri": "https://localhost:8080/",
          "height": 241
        },
        "id": "fX4_-wz3v0Hu",
        "outputId": "6b0bb51f-a65e-40ae-96c2-d995f5fadc07"
      },
      "source": [
        "eeg_df.head()"
      ],
      "execution_count": null,
      "outputs": [
        {
          "output_type": "execute_result",
          "data": {
            "text/html": [
              "<div>\n",
              "<style scoped>\n",
              "    .dataframe tbody tr th:only-of-type {\n",
              "        vertical-align: middle;\n",
              "    }\n",
              "\n",
              "    .dataframe tbody tr th {\n",
              "        vertical-align: top;\n",
              "    }\n",
              "\n",
              "    .dataframe thead th {\n",
              "        text-align: right;\n",
              "    }\n",
              "</style>\n",
              "<table border=\"1\" class=\"dataframe\">\n",
              "  <thead>\n",
              "    <tr style=\"text-align: right;\">\n",
              "      <th></th>\n",
              "      <th>EEG _mean()</th>\n",
              "      <th>EEG _std()</th>\n",
              "      <th>EEG _mad()</th>\n",
              "      <th>EEG _max()</th>\n",
              "      <th>EEG _min()</th>\n",
              "      <th>EEG _energy()</th>\n",
              "      <th>EEG _iqr()</th>\n",
              "      <th>EEG _entropy()</th>\n",
              "      <th>EEG _mean().1</th>\n",
              "      <th>EEG _std().1</th>\n",
              "      <th>EEG _mad().1</th>\n",
              "      <th>EEG _max().1</th>\n",
              "      <th>EEG _min().1</th>\n",
              "      <th>EEG _energy().1</th>\n",
              "      <th>EEG _iqr().1</th>\n",
              "      <th>EEG _entropy().1</th>\n",
              "      <th>EEG _skewness()</th>\n",
              "      <th>EEG _kurtosis()</th>\n",
              "      <th>EEG _mean().2</th>\n",
              "      <th>EEG _std().2</th>\n",
              "      <th>EEG _mad().2</th>\n",
              "      <th>EEG _max().2</th>\n",
              "      <th>EEG _min().2</th>\n",
              "      <th>EEG _iqr().2</th>\n",
              "      <th>EEG _entropy().2</th>\n",
              "      <th>EEG _skewness().1</th>\n",
              "      <th>EEG _kurtosis().1</th>\n",
              "      <th>state</th>\n",
              "      <th>subject</th>\n",
              "    </tr>\n",
              "  </thead>\n",
              "  <tbody>\n",
              "    <tr>\n",
              "      <th>0</th>\n",
              "      <td>52.430</td>\n",
              "      <td>258.690733</td>\n",
              "      <td>330.620295</td>\n",
              "      <td>556</td>\n",
              "      <td>-587</td>\n",
              "      <td>13933960</td>\n",
              "      <td>438.00</td>\n",
              "      <td>5.075521</td>\n",
              "      <td>2165.547123</td>\n",
              "      <td>3040.454844</td>\n",
              "      <td>868.221405</td>\n",
              "      <td>21313.663472</td>\n",
              "      <td>89.408300</td>\n",
              "      <td>13933960.0</td>\n",
              "      <td>2428.431654</td>\n",
              "      <td>4.705440</td>\n",
              "      <td>[3.87146543]</td>\n",
              "      <td>[18.90574346]</td>\n",
              "      <td>37.533228</td>\n",
              "      <td>261.268170</td>\n",
              "      <td>253.702656</td>\n",
              "      <td>657.609307</td>\n",
              "      <td>-781.352993</td>\n",
              "      <td>268.700577</td>\n",
              "      <td>4.978994</td>\n",
              "      <td>[0.23563205]</td>\n",
              "      <td>[0.25675342]</td>\n",
              "      <td>0</td>\n",
              "      <td>0</td>\n",
              "    </tr>\n",
              "    <tr>\n",
              "      <th>1</th>\n",
              "      <td>61.125</td>\n",
              "      <td>552.757053</td>\n",
              "      <td>661.981891</td>\n",
              "      <td>950</td>\n",
              "      <td>-982</td>\n",
              "      <td>61855325</td>\n",
              "      <td>940.00</td>\n",
              "      <td>5.118838</td>\n",
              "      <td>3342.727579</td>\n",
              "      <td>7119.093856</td>\n",
              "      <td>856.831442</td>\n",
              "      <td>49845.736802</td>\n",
              "      <td>290.723430</td>\n",
              "      <td>61855325.0</td>\n",
              "      <td>2774.168882</td>\n",
              "      <td>4.351935</td>\n",
              "      <td>[5.08980018]</td>\n",
              "      <td>[28.0742021]</td>\n",
              "      <td>45.028560</td>\n",
              "      <td>554.300509</td>\n",
              "      <td>495.873373</td>\n",
              "      <td>1155.412480</td>\n",
              "      <td>-1288.348555</td>\n",
              "      <td>654.604103</td>\n",
              "      <td>5.004412</td>\n",
              "      <td>[-0.09053293]</td>\n",
              "      <td>[-0.24383106]</td>\n",
              "      <td>1</td>\n",
              "      <td>1</td>\n",
              "    </tr>\n",
              "    <tr>\n",
              "      <th>2</th>\n",
              "      <td>42.820</td>\n",
              "      <td>254.083781</td>\n",
              "      <td>303.192154</td>\n",
              "      <td>451</td>\n",
              "      <td>-475</td>\n",
              "      <td>13278424</td>\n",
              "      <td>468.50</td>\n",
              "      <td>5.150551</td>\n",
              "      <td>1821.133173</td>\n",
              "      <td>3156.247450</td>\n",
              "      <td>800.006376</td>\n",
              "      <td>27396.273863</td>\n",
              "      <td>92.439887</td>\n",
              "      <td>13278424.0</td>\n",
              "      <td>1641.445938</td>\n",
              "      <td>4.605368</td>\n",
              "      <td>[5.78996593]</td>\n",
              "      <td>[41.47527757]</td>\n",
              "      <td>26.778134</td>\n",
              "      <td>256.271441</td>\n",
              "      <td>229.590420</td>\n",
              "      <td>607.404725</td>\n",
              "      <td>-531.744299</td>\n",
              "      <td>312.364421</td>\n",
              "      <td>4.990480</td>\n",
              "      <td>[0.04465197]</td>\n",
              "      <td>[-0.45158065]</td>\n",
              "      <td>0</td>\n",
              "      <td>2</td>\n",
              "    </tr>\n",
              "    <tr>\n",
              "      <th>3</th>\n",
              "      <td>36.405</td>\n",
              "      <td>55.646572</td>\n",
              "      <td>58.562788</td>\n",
              "      <td>212</td>\n",
              "      <td>-135</td>\n",
              "      <td>884373</td>\n",
              "      <td>76.25</td>\n",
              "      <td>5.015599</td>\n",
              "      <td>537.079691</td>\n",
              "      <td>771.957515</td>\n",
              "      <td>254.075703</td>\n",
              "      <td>7281.000000</td>\n",
              "      <td>40.169842</td>\n",
              "      <td>884373.0</td>\n",
              "      <td>502.879029</td>\n",
              "      <td>4.722169</td>\n",
              "      <td>[4.80902724]</td>\n",
              "      <td>[32.57728753]</td>\n",
              "      <td>24.932585</td>\n",
              "      <td>61.646015</td>\n",
              "      <td>31.974922</td>\n",
              "      <td>275.771645</td>\n",
              "      <td>-140.007143</td>\n",
              "      <td>67.528698</td>\n",
              "      <td>4.749479</td>\n",
              "      <td>[0.76360157]</td>\n",
              "      <td>[1.45863391]</td>\n",
              "      <td>1</td>\n",
              "      <td>3</td>\n",
              "    </tr>\n",
              "    <tr>\n",
              "      <th>4</th>\n",
              "      <td>39.090</td>\n",
              "      <td>328.835281</td>\n",
              "      <td>372.874458</td>\n",
              "      <td>504</td>\n",
              "      <td>-643</td>\n",
              "      <td>21932134</td>\n",
              "      <td>595.00</td>\n",
              "      <td>5.168024</td>\n",
              "      <td>1841.607707</td>\n",
              "      <td>4305.881449</td>\n",
              "      <td>448.692898</td>\n",
              "      <td>29784.745076</td>\n",
              "      <td>59.488466</td>\n",
              "      <td>21932134.0</td>\n",
              "      <td>1464.972775</td>\n",
              "      <td>4.191696</td>\n",
              "      <td>[5.0585361]</td>\n",
              "      <td>[27.68921778]</td>\n",
              "      <td>26.530646</td>\n",
              "      <td>330.086042</td>\n",
              "      <td>322.370110</td>\n",
              "      <td>685.186471</td>\n",
              "      <td>-831.557575</td>\n",
              "      <td>428.329933</td>\n",
              "      <td>4.965934</td>\n",
              "      <td>[-0.25973714]</td>\n",
              "      <td>[-0.30126909]</td>\n",
              "      <td>0</td>\n",
              "      <td>4</td>\n",
              "    </tr>\n",
              "  </tbody>\n",
              "</table>\n",
              "</div>"
            ],
            "text/plain": [
              "   EEG _mean()  EEG _std()  EEG _mad()  ...  EEG _kurtosis().1  state  subject\n",
              "0       52.430  258.690733  330.620295  ...       [0.25675342]      0        0\n",
              "1       61.125  552.757053  661.981891  ...      [-0.24383106]      1        1\n",
              "2       42.820  254.083781  303.192154  ...      [-0.45158065]      0        2\n",
              "3       36.405   55.646572   58.562788  ...       [1.45863391]      1        3\n",
              "4       39.090  328.835281  372.874458  ...      [-0.30126909]      0        4\n",
              "\n",
              "[5 rows x 29 columns]"
            ]
          },
          "metadata": {
            "tags": []
          },
          "execution_count": 3
        }
      ]
    },
    {
      "cell_type": "code",
      "metadata": {
        "colab": {
          "base_uri": "https://localhost:8080/"
        },
        "id": "uRUqgmC6Lmmd",
        "outputId": "66251e70-a254-4b7f-9121-bb838fd7cb2c"
      },
      "source": [
        "eeg_df.info()"
      ],
      "execution_count": null,
      "outputs": [
        {
          "output_type": "stream",
          "text": [
            "<class 'pandas.core.frame.DataFrame'>\n",
            "RangeIndex: 9742 entries, 0 to 9741\n",
            "Data columns (total 29 columns):\n",
            " #   Column             Non-Null Count  Dtype  \n",
            "---  ------             --------------  -----  \n",
            " 0   EEG _mean()        9742 non-null   float64\n",
            " 1   EEG _std()         9742 non-null   float64\n",
            " 2   EEG _mad()         9742 non-null   float64\n",
            " 3   EEG _max()         9742 non-null   int64  \n",
            " 4   EEG _min()         9742 non-null   int64  \n",
            " 5   EEG _energy()      9742 non-null   int64  \n",
            " 6   EEG _iqr()         9742 non-null   float64\n",
            " 7   EEG _entropy()     9742 non-null   float64\n",
            " 8   EEG _mean().1      9742 non-null   float64\n",
            " 9   EEG _std().1       9742 non-null   float64\n",
            " 10  EEG _mad().1       9742 non-null   float64\n",
            " 11  EEG _max().1       9742 non-null   float64\n",
            " 12  EEG _min().1       9742 non-null   float64\n",
            " 13  EEG _energy().1    9742 non-null   float64\n",
            " 14  EEG _iqr().1       9742 non-null   float64\n",
            " 15  EEG _entropy().1   9742 non-null   float64\n",
            " 16  EEG _skewness()    9742 non-null   object \n",
            " 17  EEG _kurtosis()    9742 non-null   object \n",
            " 18  EEG _mean().2      9742 non-null   float64\n",
            " 19  EEG _std().2       9742 non-null   float64\n",
            " 20  EEG _mad().2       9742 non-null   float64\n",
            " 21  EEG _max().2       9742 non-null   float64\n",
            " 22  EEG _min().2       9742 non-null   float64\n",
            " 23  EEG _iqr().2       9742 non-null   float64\n",
            " 24  EEG _entropy().2   9742 non-null   float64\n",
            " 25  EEG _skewness().1  9742 non-null   object \n",
            " 26  EEG _kurtosis().1  9742 non-null   object \n",
            " 27  state              9742 non-null   int64  \n",
            " 28  subject            9742 non-null   int64  \n",
            "dtypes: float64(20), int64(5), object(4)\n",
            "memory usage: 2.2+ MB\n"
          ],
          "name": "stdout"
        }
      ]
    },
    {
      "cell_type": "code",
      "metadata": {
        "id": "V6GoQpC2L_Ck"
      },
      "source": [
        "eeg_df.drop(columns=['EEG _skewness()','EEG _kurtosis()','EEG _skewness().1','EEG _kurtosis().1'],inplace=True)"
      ],
      "execution_count": null,
      "outputs": []
    },
    {
      "cell_type": "code",
      "metadata": {
        "id": "j_XDy-mfLPDA"
      },
      "source": [
        "X = eeg_df.iloc[:, :-2].values  #Selecting all features excluding the target col (intrested or not).\n",
        "y = eeg_df.iloc[:, -2].values   #Selecting only the target col the state (intrested or not)."
      ],
      "execution_count": null,
      "outputs": []
    },
    {
      "cell_type": "code",
      "metadata": {
        "colab": {
          "base_uri": "https://localhost:8080/"
        },
        "id": "FkMd0qwBLYBe",
        "outputId": "6b79ae27-3e40-46a4-f5be-6cc5e108c604"
      },
      "source": [
        "print(X.shape)  #printing the shape of the training data.\n",
        "print(y.shape)  #printing the shape of the target.\n"
      ],
      "execution_count": null,
      "outputs": [
        {
          "output_type": "stream",
          "text": [
            "(9742, 23)\n",
            "(9742,)\n"
          ],
          "name": "stdout"
        }
      ]
    },
    {
      "cell_type": "code",
      "metadata": {
        "id": "Pby-8jhSMzUX"
      },
      "source": [
        "#spliting the data into training set and testing set \n",
        "from sklearn.model_selection import train_test_split\n",
        "X_train, X_test, y_train, y_test = train_test_split(X , y, test_size = 0.2, random_state = 1\n",
        ")"
      ],
      "execution_count": null,
      "outputs": []
    },
    {
      "cell_type": "code",
      "metadata": {
        "colab": {
          "base_uri": "https://localhost:8080/"
        },
        "id": "P6B2JVyfPiEu",
        "outputId": "c53bc0e2-e98b-4038-bec4-f32edcde8466"
      },
      "source": [
        "print(X_train.shape)\n",
        "print(y_train)"
      ],
      "execution_count": null,
      "outputs": [
        {
          "output_type": "stream",
          "text": [
            "(7793, 23)\n",
            "[0 1 1 ... 0 0 0]\n"
          ],
          "name": "stdout"
        }
      ]
    },
    {
      "cell_type": "markdown",
      "metadata": {
        "id": "bYESP87rpgPH"
      },
      "source": [
        "### Feature scaling\n"
      ]
    },
    {
      "cell_type": "code",
      "metadata": {
        "id": "GfyAAxNUP2yd"
      },
      "source": [
        "#Feature scaling \n",
        "from sklearn.preprocessing import StandardScaler\n",
        "sc = StandardScaler()\n",
        "X_train = sc.fit_transform(X_train)\n",
        "X_test = sc.transform(X_test)"
      ],
      "execution_count": null,
      "outputs": []
    },
    {
      "cell_type": "code",
      "metadata": {
        "colab": {
          "base_uri": "https://localhost:8080/"
        },
        "id": "ct-SjDE8RKVC",
        "outputId": "477e778e-3597-472e-b249-966685235ee6"
      },
      "source": [
        "X_train"
      ],
      "execution_count": null,
      "outputs": [
        {
          "output_type": "execute_result",
          "data": {
            "text/plain": [
              "array([[ 0.00484534, -0.73068842, -0.63411084, ...,  0.63462497,\n",
              "        -0.67801866,  0.510688  ],\n",
              "       [-0.15157196,  1.05265652,  1.3270857 , ..., -0.90945281,\n",
              "         1.16883171,  0.50003831],\n",
              "       [-0.93236894, -1.45556328, -1.51645663, ...,  1.28567918,\n",
              "        -1.55567152, -1.22148939],\n",
              "       ...,\n",
              "       [-0.1001206 , -0.06275198,  0.19429241, ...,  0.17157571,\n",
              "        -0.12707103,  0.56428293],\n",
              "       [-0.0600169 , -0.53400545, -0.54163792, ...,  0.45358315,\n",
              "        -0.53440274,  0.61225546],\n",
              "       [ 0.23179872, -0.18491952, -0.21027662, ...,  0.14894549,\n",
              "        -0.2018185 ,  0.33766012]])"
            ]
          },
          "metadata": {
            "tags": []
          },
          "execution_count": 11
        }
      ]
    },
    {
      "cell_type": "code",
      "metadata": {
        "colab": {
          "base_uri": "https://localhost:8080/"
        },
        "id": "QpTiBCCqRPrQ",
        "outputId": "68b12a6c-a282-42e9-f487-baedc38860da"
      },
      "source": [
        "X_test"
      ],
      "execution_count": null,
      "outputs": [
        {
          "output_type": "execute_result",
          "data": {
            "text/plain": [
              "array([[ 0.06996549,  1.59449855,  1.09975643, ..., -1.69976995,\n",
              "         1.85415681,  0.49776611],\n",
              "       [ 0.24533855,  0.58884032,  0.45629902, ..., -0.51429423,\n",
              "         0.73042521,  0.43130335],\n",
              "       [-0.2077945 , -1.56688975, -1.61663562, ...,  1.48586965,\n",
              "        -1.4305325 , -0.95832127],\n",
              "       ...,\n",
              "       [-0.33481102,  2.44198618,  1.8896293 , ..., -2.43960429,\n",
              "         2.64446431,  0.34772807],\n",
              "       [ 0.13818045,  0.61098878,  0.53721283, ..., -0.47251535,\n",
              "         0.72622591,  0.39695411],\n",
              "       [-0.61411841,  1.84134401,  1.85109892, ..., -2.02703785,\n",
              "         1.52997116,  0.10173068]])"
            ]
          },
          "metadata": {
            "tags": []
          },
          "execution_count": 12
        }
      ]
    },
    {
      "cell_type": "code",
      "metadata": {
        "colab": {
          "base_uri": "https://localhost:8080/"
        },
        "id": "qnOhwh9moV3U",
        "outputId": "12db9f01-c5b8-48c2-e219-1613dd40782c"
      },
      "source": [
        "X_train.shape"
      ],
      "execution_count": null,
      "outputs": [
        {
          "output_type": "execute_result",
          "data": {
            "text/plain": [
              "(7793, 23)"
            ]
          },
          "metadata": {
            "tags": []
          },
          "execution_count": 13
        }
      ]
    },
    {
      "cell_type": "code",
      "metadata": {
        "id": "L9BEHuuBsFdp"
      },
      "source": [
        "lda=LDA(solver='svd')\n",
        "svmc= SVC(kernel = 'rbf', random_state = None)\n",
        "knn = KNN(n_neighbors = 50, metric = 'minkowski', p = 2,n_jobs=-1)\n",
        "rf = RFC(n_estimators = 50, criterion = 'entropy', random_state = 0,n_jobs=-1)"
      ],
      "execution_count": null,
      "outputs": []
    },
    {
      "cell_type": "code",
      "metadata": {
        "colab": {
          "base_uri": "https://localhost:8080/"
        },
        "id": "RBGyxd2nt_1P",
        "outputId": "11b60dd3-0008-49bd-b5eb-bee9e6458737"
      },
      "source": [
        "# Build step forward feature selection\n",
        "sfs1 = sfs(lda,\n",
        "           k_features=8,\n",
        "           forward=True,\n",
        "           floating=False,\n",
        "           verbose=2,\n",
        "           scoring='accuracy',\n",
        "           cv=5\n",
        "           )\n",
        "\n",
        "# Perform SFFS\n",
        "sfs1 = sfs1.fit(X_train, y_train)"
      ],
      "execution_count": null,
      "outputs": [
        {
          "output_type": "stream",
          "text": [
            "[Parallel(n_jobs=1)]: Using backend SequentialBackend with 1 concurrent workers.\n",
            "[Parallel(n_jobs=1)]: Done   1 out of   1 | elapsed:    0.0s remaining:    0.0s\n",
            "[Parallel(n_jobs=1)]: Done  23 out of  23 | elapsed:    0.4s finished\n",
            "\n",
            "[2021-07-13 01:03:59] Features: 1/8 -- score: 0.794431356791202[Parallel(n_jobs=1)]: Using backend SequentialBackend with 1 concurrent workers.\n",
            "[Parallel(n_jobs=1)]: Done   1 out of   1 | elapsed:    0.0s remaining:    0.0s\n",
            "[Parallel(n_jobs=1)]: Done  22 out of  22 | elapsed:    0.5s finished\n",
            "\n",
            "[2021-07-13 01:03:59] Features: 2/8 -- score: 0.8156035475820138[Parallel(n_jobs=1)]: Using backend SequentialBackend with 1 concurrent workers.\n",
            "[Parallel(n_jobs=1)]: Done   1 out of   1 | elapsed:    0.0s remaining:    0.0s\n",
            "[Parallel(n_jobs=1)]: Done  21 out of  21 | elapsed:    0.6s finished\n",
            "\n",
            "[2021-07-13 01:04:00] Features: 3/8 -- score: 0.832155581776607[Parallel(n_jobs=1)]: Using backend SequentialBackend with 1 concurrent workers.\n",
            "[Parallel(n_jobs=1)]: Done   1 out of   1 | elapsed:    0.0s remaining:    0.0s\n",
            "[Parallel(n_jobs=1)]: Done  20 out of  20 | elapsed:    0.6s finished\n",
            "\n",
            "[2021-07-13 01:04:00] Features: 4/8 -- score: 0.848453758498626[Parallel(n_jobs=1)]: Using backend SequentialBackend with 1 concurrent workers.\n",
            "[Parallel(n_jobs=1)]: Done   1 out of   1 | elapsed:    0.0s remaining:    0.0s\n",
            "[Parallel(n_jobs=1)]: Done  19 out of  19 | elapsed:    0.7s finished\n",
            "\n",
            "[2021-07-13 01:04:01] Features: 5/8 -- score: 0.8537144461617128[Parallel(n_jobs=1)]: Using backend SequentialBackend with 1 concurrent workers.\n",
            "[Parallel(n_jobs=1)]: Done   1 out of   1 | elapsed:    0.1s remaining:    0.0s\n",
            "[Parallel(n_jobs=1)]: Done  18 out of  18 | elapsed:    1.5s finished\n",
            "\n",
            "[2021-07-13 01:04:02] Features: 6/8 -- score: 0.8575631494136082[Parallel(n_jobs=1)]: Using backend SequentialBackend with 1 concurrent workers.\n",
            "[Parallel(n_jobs=1)]: Done   1 out of   1 | elapsed:    0.2s remaining:    0.0s\n",
            "[Parallel(n_jobs=1)]: Done  17 out of  17 | elapsed:    2.0s finished\n",
            "\n",
            "[2021-07-13 01:04:04] Features: 7/8 -- score: 0.9011939452975435[Parallel(n_jobs=1)]: Using backend SequentialBackend with 1 concurrent workers.\n",
            "[Parallel(n_jobs=1)]: Done   1 out of   1 | elapsed:    0.1s remaining:    0.0s\n",
            "[Parallel(n_jobs=1)]: Done  16 out of  16 | elapsed:    1.7s finished\n",
            "\n",
            "[2021-07-13 01:04:06] Features: 8/8 -- score: 0.9330147283445085"
          ],
          "name": "stderr"
        }
      ]
    },
    {
      "cell_type": "code",
      "metadata": {
        "colab": {
          "base_uri": "https://localhost:8080/"
        },
        "id": "jDheG72fDmhF",
        "outputId": "7289d060-19a3-4d36-a9dd-8bc235c0dff1"
      },
      "source": [
        "feat_cols_1=list(sfs1.k_feature_idx_)\n",
        "feat_cols_1"
      ],
      "execution_count": null,
      "outputs": [
        {
          "output_type": "execute_result",
          "data": {
            "text/plain": [
              "[2, 6, 7, 16, 18, 20, 21, 22]"
            ]
          },
          "metadata": {
            "tags": []
          },
          "execution_count": 16
        }
      ]
    },
    {
      "cell_type": "code",
      "metadata": {
        "colab": {
          "base_uri": "https://localhost:8080/"
        },
        "id": "hbVPex-eulQa",
        "outputId": "795f0470-249c-4184-e785-c28b0cddc9e2"
      },
      "source": [
        "# Build step forward feature selection\n",
        "sfs2 = sfs(svmc,\n",
        "           k_features=8,\n",
        "           forward=True,\n",
        "           floating=False,\n",
        "           verbose=2,\n",
        "           scoring='accuracy',\n",
        "           cv=5)\n",
        "\n",
        "# Perform SFFS\n",
        "sfs2 = sfs2.fit(X_train, y_train)"
      ],
      "execution_count": null,
      "outputs": [
        {
          "output_type": "stream",
          "text": [
            "[Parallel(n_jobs=1)]: Using backend SequentialBackend with 1 concurrent workers.\n",
            "[Parallel(n_jobs=1)]: Done   1 out of   1 | elapsed:    7.2s remaining:    0.0s\n",
            "[Parallel(n_jobs=1)]: Done  23 out of  23 | elapsed:  1.4min finished\n",
            "\n",
            "[2021-07-13 01:05:43] Features: 1/8 -- score: 0.9271130155682232[Parallel(n_jobs=1)]: Using backend SequentialBackend with 1 concurrent workers.\n",
            "[Parallel(n_jobs=1)]: Done   1 out of   1 | elapsed:    1.9s remaining:    0.0s\n",
            "[Parallel(n_jobs=1)]: Done  22 out of  22 | elapsed:   35.8s finished\n",
            "\n",
            "[2021-07-13 01:06:18] Features: 2/8 -- score: 0.984473358963359[Parallel(n_jobs=1)]: Using backend SequentialBackend with 1 concurrent workers.\n",
            "[Parallel(n_jobs=1)]: Done   1 out of   1 | elapsed:    0.7s remaining:    0.0s\n",
            "[Parallel(n_jobs=1)]: Done  21 out of  21 | elapsed:   13.6s finished\n",
            "\n",
            "[2021-07-13 01:06:32] Features: 3/8 -- score: 0.9929418894472528[Parallel(n_jobs=1)]: Using backend SequentialBackend with 1 concurrent workers.\n",
            "[Parallel(n_jobs=1)]: Done   1 out of   1 | elapsed:    0.6s remaining:    0.0s\n",
            "[Parallel(n_jobs=1)]: Done  20 out of  20 | elapsed:   10.4s finished\n",
            "\n",
            "[2021-07-13 01:06:43] Features: 4/8 -- score: 0.996021938950695[Parallel(n_jobs=1)]: Using backend SequentialBackend with 1 concurrent workers.\n",
            "[Parallel(n_jobs=1)]: Done   1 out of   1 | elapsed:    0.5s remaining:    0.0s\n",
            "[Parallel(n_jobs=1)]: Done  19 out of  19 | elapsed:    9.1s finished\n",
            "\n",
            "[2021-07-13 01:06:52] Features: 5/8 -- score: 0.9966634581102234[Parallel(n_jobs=1)]: Using backend SequentialBackend with 1 concurrent workers.\n",
            "[Parallel(n_jobs=1)]: Done   1 out of   1 | elapsed:    0.6s remaining:    0.0s\n",
            "[Parallel(n_jobs=1)]: Done  18 out of  18 | elapsed:    9.0s finished\n",
            "\n",
            "[2021-07-13 01:07:01] Features: 6/8 -- score: 0.9974333469745014[Parallel(n_jobs=1)]: Using backend SequentialBackend with 1 concurrent workers.\n",
            "[Parallel(n_jobs=1)]: Done   1 out of   1 | elapsed:    0.6s remaining:    0.0s\n",
            "[Parallel(n_jobs=1)]: Done  17 out of  17 | elapsed:    8.2s finished\n",
            "\n",
            "[2021-07-13 01:07:09] Features: 7/8 -- score: 0.9975617166792512[Parallel(n_jobs=1)]: Using backend SequentialBackend with 1 concurrent workers.\n",
            "[Parallel(n_jobs=1)]: Done   1 out of   1 | elapsed:    0.6s remaining:    0.0s\n",
            "[Parallel(n_jobs=1)]: Done  16 out of  16 | elapsed:    8.4s finished\n",
            "\n",
            "[2021-07-13 01:07:17] Features: 8/8 -- score: 0.9975617990203061"
          ],
          "name": "stderr"
        }
      ]
    },
    {
      "cell_type": "code",
      "metadata": {
        "colab": {
          "base_uri": "https://localhost:8080/"
        },
        "id": "a0Ls0Mh-zi3H",
        "outputId": "ae09613c-cba0-4e1a-f8a1-b4cb40f04f76"
      },
      "source": [
        "feat_cols_2=list(sfs2.k_feature_idx_)\n",
        "feat_cols_2"
      ],
      "execution_count": null,
      "outputs": [
        {
          "output_type": "execute_result",
          "data": {
            "text/plain": [
              "[2, 5, 7, 10, 18, 20, 21, 22]"
            ]
          },
          "metadata": {
            "tags": []
          },
          "execution_count": 18
        }
      ]
    },
    {
      "cell_type": "code",
      "metadata": {
        "colab": {
          "base_uri": "https://localhost:8080/"
        },
        "id": "mnDmYev0wLg2",
        "outputId": "9f462278-673d-4fce-d39a-635eaef1b7a6"
      },
      "source": [
        "sfs3 = sfs(knn,\n",
        "           k_features=8,\n",
        "           forward=True,\n",
        "           floating=False,\n",
        "           verbose=2,\n",
        "           scoring='accuracy',\n",
        "           cv=5)\n",
        "\n",
        "# Perform SFFS\n",
        "sfs3 = sfs3.fit(X_train, y_train)"
      ],
      "execution_count": null,
      "outputs": [
        {
          "output_type": "stream",
          "text": [
            "[Parallel(n_jobs=1)]: Using backend SequentialBackend with 1 concurrent workers.\n",
            "[Parallel(n_jobs=1)]: Done   1 out of   1 | elapsed:    1.3s remaining:    0.0s\n",
            "[Parallel(n_jobs=1)]: Done  23 out of  23 | elapsed:    8.8s finished\n",
            "\n",
            "[2021-07-13 01:07:40] Features: 1/8 -- score: 0.926857099569274[Parallel(n_jobs=1)]: Using backend SequentialBackend with 1 concurrent workers.\n",
            "[Parallel(n_jobs=1)]: Done   1 out of   1 | elapsed:    0.4s remaining:    0.0s\n",
            "[Parallel(n_jobs=1)]: Done  22 out of  22 | elapsed:    7.9s finished\n",
            "\n",
            "[2021-07-13 01:07:48] Features: 2/8 -- score: 0.9828057055763832[Parallel(n_jobs=1)]: Using backend SequentialBackend with 1 concurrent workers.\n",
            "[Parallel(n_jobs=1)]: Done   1 out of   1 | elapsed:    0.4s remaining:    0.0s\n",
            "[Parallel(n_jobs=1)]: Done  21 out of  21 | elapsed:    8.1s finished\n",
            "\n",
            "[2021-07-13 01:07:56] Features: 3/8 -- score: 0.9915309754697763[Parallel(n_jobs=1)]: Using backend SequentialBackend with 1 concurrent workers.\n",
            "[Parallel(n_jobs=1)]: Done   1 out of   1 | elapsed:    0.4s remaining:    0.0s\n",
            "[Parallel(n_jobs=1)]: Done  20 out of  20 | elapsed:    8.1s finished\n",
            "\n",
            "[2021-07-13 01:08:04] Features: 4/8 -- score: 0.9937120253346958[Parallel(n_jobs=1)]: Using backend SequentialBackend with 1 concurrent workers.\n",
            "[Parallel(n_jobs=1)]: Done   1 out of   1 | elapsed:    0.5s remaining:    0.0s\n",
            "[Parallel(n_jobs=1)]: Done  19 out of  19 | elapsed:    8.1s finished\n",
            "\n",
            "[2021-07-13 01:08:12] Features: 5/8 -- score: 0.9946102015626685[Parallel(n_jobs=1)]: Using backend SequentialBackend with 1 concurrent workers.\n",
            "[Parallel(n_jobs=1)]: Done   1 out of   1 | elapsed:    0.5s remaining:    0.0s\n",
            "[Parallel(n_jobs=1)]: Done  18 out of  18 | elapsed:    8.2s finished\n",
            "\n",
            "[2021-07-13 01:08:20] Features: 6/8 -- score: 0.9951235156995573[Parallel(n_jobs=1)]: Using backend SequentialBackend with 1 concurrent workers.\n",
            "[Parallel(n_jobs=1)]: Done   1 out of   1 | elapsed:    0.5s remaining:    0.0s\n",
            "[Parallel(n_jobs=1)]: Done  17 out of  17 | elapsed:    8.1s finished\n",
            "\n",
            "[2021-07-13 01:08:29] Features: 7/8 -- score: 0.995636829836446[Parallel(n_jobs=1)]: Using backend SequentialBackend with 1 concurrent workers.\n",
            "[Parallel(n_jobs=1)]: Done   1 out of   1 | elapsed:    0.5s remaining:    0.0s\n",
            "[Parallel(n_jobs=1)]: Done  16 out of  16 | elapsed:    8.0s finished\n",
            "\n",
            "[2021-07-13 01:08:37] Features: 8/8 -- score: 0.9955085424727512"
          ],
          "name": "stderr"
        }
      ]
    },
    {
      "cell_type": "code",
      "metadata": {
        "colab": {
          "base_uri": "https://localhost:8080/"
        },
        "id": "k3hmk0R_FAN6",
        "outputId": "205bc4e5-86e3-4000-d7ad-fc0263da5fd5"
      },
      "source": [
        "feat_cols_3=sfs3.k_feature_idx_\n",
        "feat_cols_3"
      ],
      "execution_count": null,
      "outputs": [
        {
          "output_type": "execute_result",
          "data": {
            "text/plain": [
              "(2, 4, 5, 7, 17, 18, 21, 22)"
            ]
          },
          "metadata": {
            "tags": []
          },
          "execution_count": 20
        }
      ]
    },
    {
      "cell_type": "code",
      "metadata": {
        "colab": {
          "base_uri": "https://localhost:8080/"
        },
        "id": "bGCpWUqgwuUk",
        "outputId": "e8867709-7ad9-48c6-cf4c-79a1c404c556"
      },
      "source": [
        "# Build step forward feature selection\n",
        "sfs4 = sfs(rf,\n",
        "           k_features=8,\n",
        "           forward=True,\n",
        "           floating=False,\n",
        "           verbose=2,\n",
        "           scoring='accuracy',\n",
        "           cv=5)\n",
        "\n",
        "# Perform SFFS\n",
        "sfs4 = sfs4.fit(X_train, y_train)"
      ],
      "execution_count": null,
      "outputs": [
        {
          "output_type": "stream",
          "text": [
            "[Parallel(n_jobs=1)]: Using backend SequentialBackend with 1 concurrent workers.\n",
            "[Parallel(n_jobs=1)]: Done   1 out of   1 | elapsed:    4.8s remaining:    0.0s\n",
            "[Parallel(n_jobs=1)]: Done  23 out of  23 | elapsed:  1.2min finished\n",
            "\n",
            "[2021-07-13 01:10:00] Features: 1/8 -- score: 0.9262159921150206[Parallel(n_jobs=1)]: Using backend SequentialBackend with 1 concurrent workers.\n",
            "[Parallel(n_jobs=1)]: Done   1 out of   1 | elapsed:    2.5s remaining:    0.0s\n",
            "[Parallel(n_jobs=1)]: Done  22 out of  22 | elapsed:   49.9s finished\n",
            "\n",
            "[2021-07-13 01:10:50] Features: 2/8 -- score: 0.9881947629442196[Parallel(n_jobs=1)]: Using backend SequentialBackend with 1 concurrent workers.\n",
            "[Parallel(n_jobs=1)]: Done   1 out of   1 | elapsed:    2.0s remaining:    0.0s\n",
            "[Parallel(n_jobs=1)]: Done  21 out of  21 | elapsed:   40.9s finished\n",
            "\n",
            "[2021-07-13 01:11:31] Features: 3/8 -- score: 0.9958934045638352[Parallel(n_jobs=1)]: Using backend SequentialBackend with 1 concurrent workers.\n",
            "[Parallel(n_jobs=1)]: Done   1 out of   1 | elapsed:    2.3s remaining:    0.0s\n",
            "[Parallel(n_jobs=1)]: Done  20 out of  20 | elapsed:   44.1s finished\n",
            "\n",
            "[2021-07-13 01:12:15] Features: 4/8 -- score: 0.9969198681555026[Parallel(n_jobs=1)]: Using backend SequentialBackend with 1 concurrent workers.\n",
            "[Parallel(n_jobs=1)]: Done   1 out of   1 | elapsed:    2.4s remaining:    0.0s\n",
            "[Parallel(n_jobs=1)]: Done  19 out of  19 | elapsed:   44.0s finished\n",
            "\n",
            "[2021-07-13 01:12:59] Features: 5/8 -- score: 0.9978180443834754[Parallel(n_jobs=1)]: Using backend SequentialBackend with 1 concurrent workers.\n",
            "[Parallel(n_jobs=1)]: Done   1 out of   1 | elapsed:    2.5s remaining:    0.0s\n",
            "[Parallel(n_jobs=1)]: Done  18 out of  18 | elapsed:   43.4s finished\n",
            "\n",
            "[2021-07-13 01:13:42] Features: 6/8 -- score: 0.997561469656086[Parallel(n_jobs=1)]: Using backend SequentialBackend with 1 concurrent workers.\n",
            "[Parallel(n_jobs=1)]: Done   1 out of   1 | elapsed:    2.6s remaining:    0.0s\n",
            "[Parallel(n_jobs=1)]: Done  17 out of  17 | elapsed:   43.4s finished\n",
            "\n",
            "[2021-07-13 01:14:26] Features: 7/8 -- score: 0.9978181267245304[Parallel(n_jobs=1)]: Using backend SequentialBackend with 1 concurrent workers.\n",
            "[Parallel(n_jobs=1)]: Done   1 out of   1 | elapsed:    2.7s remaining:    0.0s\n",
            "[Parallel(n_jobs=1)]: Done  16 out of  16 | elapsed:   42.8s finished\n",
            "\n",
            "[2021-07-13 01:15:09] Features: 8/8 -- score: 0.9973050596108068"
          ],
          "name": "stderr"
        }
      ]
    },
    {
      "cell_type": "code",
      "metadata": {
        "colab": {
          "base_uri": "https://localhost:8080/"
        },
        "id": "CQjl_lXwG7dD",
        "outputId": "1659f8e7-78b6-4f6a-b7d9-46b5d5a07e16"
      },
      "source": [
        "feat_cols_4=sfs4.k_feature_idx_\n",
        "feat_cols_4"
      ],
      "execution_count": null,
      "outputs": [
        {
          "output_type": "execute_result",
          "data": {
            "text/plain": [
              "(2, 5, 7, 8, 9, 16, 18, 20)"
            ]
          },
          "metadata": {
            "tags": []
          },
          "execution_count": 22
        }
      ]
    },
    {
      "cell_type": "code",
      "metadata": {
        "id": "JYaFxlSWY0J6"
      },
      "source": [
        "from timeit import default_timer as timer\n",
        "start_time=timer()"
      ],
      "execution_count": null,
      "outputs": []
    },
    {
      "cell_type": "code",
      "metadata": {
        "id": "QTl64y6DHNey",
        "colab": {
          "base_uri": "https://localhost:8080/"
        },
        "outputId": "18767213-b971-4c41-d446-f4cc86902efb"
      },
      "source": [
        "# Build full model with selected features\n",
        "\n",
        "lda.fit(X_train[:, feat_cols_1], y_train)\n",
        "y_test_pred = lda.predict(X_test[:, feat_cols_1])\n",
        "print('Testing accuracy on selected features: %.3f' % ac(y_test, y_test_pred))"
      ],
      "execution_count": null,
      "outputs": [
        {
          "output_type": "stream",
          "text": [
            "Testing accuracy on selected features: 0.932\n"
          ],
          "name": "stdout"
        }
      ]
    },
    {
      "cell_type": "code",
      "metadata": {
        "colab": {
          "base_uri": "https://localhost:8080/"
        },
        "id": "BRz5EhpZIuPK",
        "outputId": "516166a1-f9d8-43ca-b9c1-baee4419359f"
      },
      "source": [
        "# Build full model with selected features\n",
        "\n",
        "svmc.fit(X_train[:, feat_cols_2], y_train)\n",
        "y_test_pred_1 = svmc.predict(X_test[:, feat_cols_2])\n",
        "print('Testing accuracy on selected features: %.3f' % ac(y_test, y_test_pred_1))"
      ],
      "execution_count": null,
      "outputs": [
        {
          "output_type": "stream",
          "text": [
            "Testing accuracy on selected features: 0.998\n"
          ],
          "name": "stdout"
        }
      ]
    },
    {
      "cell_type": "code",
      "metadata": {
        "colab": {
          "base_uri": "https://localhost:8080/"
        },
        "id": "AAofgIlmJBL-",
        "outputId": "9aa0085d-e151-4022-93ff-6d71bb264964"
      },
      "source": [
        "# Build full model with selected features\n",
        "\n",
        "knn.fit(X_train[:, feat_cols_3], y_train)\n",
        "y_test_pred_2 = knn.predict(X_test[:, feat_cols_3])\n",
        "print('Testing accuracy on selected features: %.3f' % ac(y_test, y_test_pred_2))"
      ],
      "execution_count": null,
      "outputs": [
        {
          "output_type": "stream",
          "text": [
            "Testing accuracy on selected features: 0.996\n"
          ],
          "name": "stdout"
        }
      ]
    },
    {
      "cell_type": "code",
      "metadata": {
        "colab": {
          "base_uri": "https://localhost:8080/"
        },
        "id": "xAjC_JOZJjdH",
        "outputId": "35119206-409b-4558-ba05-a2663f1fb39e"
      },
      "source": [
        "# Build full model with selected features\n",
        "\n",
        "rf.fit(X_train[:, feat_cols_4], y_train)\n",
        "y_test_pred_3 = knn.predict(X_test[:, feat_cols_4])\n",
        "print('Testing accuracy on selected features: %.3f' % ac(y_test, y_test_pred_3))"
      ],
      "execution_count": null,
      "outputs": [
        {
          "output_type": "stream",
          "text": [
            "Testing accuracy on selected features: 0.628\n"
          ],
          "name": "stdout"
        }
      ]
    },
    {
      "cell_type": "code",
      "metadata": {
        "colab": {
          "base_uri": "https://localhost:8080/"
        },
        "id": "_u52Ft1GY7YN",
        "outputId": "6eb2ce62-75d7-4dea-f05d-106b14d8836a"
      },
      "source": [
        "end_time=timer()\n",
        "print ('Full Duration in seconds :', end_time-start_time)"
      ],
      "execution_count": null,
      "outputs": [
        {
          "output_type": "stream",
          "text": [
            "Full Duration in seconds : 15.52448149199995\n"
          ],
          "name": "stdout"
        }
      ]
    },
    {
      "cell_type": "code",
      "metadata": {
        "id": "XEKeoHCjklgQ"
      },
      "source": [
        "def calculate_sensitivity_specificity(y_test, y_pred_test):\n",
        "    # Note: More parameters are defined than necessary. \n",
        "    # This would allow return of other measures other than sensitivity and specificity\n",
        "    \n",
        "    # Get true/false for whether a breach actually occurred\n",
        "    actual_pos = y_test == 1\n",
        "    actual_neg = y_test == 0\n",
        "    \n",
        "    # Get true and false test (true test match actual, false tests differ from actual)\n",
        "    true_pos = (y_pred_test == 1) & (actual_pos)\n",
        "    false_pos = (y_pred_test == 1) & (actual_neg)\n",
        "    true_neg = (y_pred_test == 0) & (actual_neg)\n",
        "    false_neg = (y_pred_test == 0) & (actual_pos)\n",
        "    \n",
        "    # Calculate accuracy\n",
        "    accuracy = np.mean(y_pred_test == y_test)\n",
        "    \n",
        "    # Calculate sensitivity and specificity\n",
        "    sensitivity = np.sum(true_pos) / np.sum(actual_pos)\n",
        "    #specificity = np.sum(true_neg) / np.sum(actual_neg)\n",
        "    \n",
        "    return sensitivity, accuracy"
      ],
      "execution_count": null,
      "outputs": []
    },
    {
      "cell_type": "code",
      "metadata": {
        "colab": {
          "base_uri": "https://localhost:8080/"
        },
        "id": "fW7iMKXesJn6",
        "outputId": "38825d1c-bef4-4e7d-e5c8-399bdd308c3a"
      },
      "source": [
        "sensitivity_lda,accuracy_lda = calculate_sensitivity_specificity(y_test, y_test_pred)\n",
        "print ('Sensitivity for LDA is:', sensitivity_lda)\n",
        "print ('Accuracy for LDA is ', accuracy_lda)\n",
        "print('*-------------------------------------------------------*')\n",
        "sensitivity_svm,accuracy_svm = calculate_sensitivity_specificity(y_test, y_test_pred_1)\n",
        "print ('Sensitivity for svm is:', sensitivity_svm)\n",
        "print ('Accuracy for svm is ', accuracy_svm)\n",
        "print('*-------------------------------------------------------*')\n",
        "sensitivity_knn,accuracy_knn = calculate_sensitivity_specificity(y_test, y_test_pred_2)\n",
        "print ('Sensitivity for KNN is:', sensitivity_knn)\n",
        "print ('Accuracy for KNN is ', accuracy_knn)\n",
        "print('*-------------------------------------------------------*')\n",
        "sensitivity_rf,accuracy_rf = calculate_sensitivity_specificity(y_test, y_test_pred_3)\n",
        "print ('Sensitivity for rf is:', sensitivity_rf)\n",
        "print ('Accuracy for rf is ', accuracy_rf)\n",
        "print('*-------------------------------------------------------*')"
      ],
      "execution_count": null,
      "outputs": [
        {
          "output_type": "stream",
          "text": [
            "Sensitivity for LDA is: 0.8651399491094147\n",
            "Accuracy for LDA is  0.9322729604925603\n",
            "*-------------------------------------------------------*\n",
            "Sensitivity for svm is: 0.9974554707379135\n",
            "Accuracy for svm is  0.9984607491021037\n",
            "*-------------------------------------------------------*\n",
            "Sensitivity for KNN is: 0.9987277353689568\n",
            "Accuracy for KNN is  0.995895330938943\n",
            "*-------------------------------------------------------*\n",
            "Sensitivity for rf is: 0.1717557251908397\n",
            "Accuracy for rf is  0.6280143663417137\n",
            "*-------------------------------------------------------*\n"
          ],
          "name": "stdout"
        }
      ]
    },
    {
      "cell_type": "code",
      "metadata": {
        "id": "zf9VTmcwsZqS"
      },
      "source": [
        "from sklearn.metrics import classification_report, confusion_matrix\n",
        "import itertools\n",
        "import matplotlib.pyplot as plt"
      ],
      "execution_count": null,
      "outputs": []
    },
    {
      "cell_type": "code",
      "metadata": {
        "id": "xTOTx1Cutzo1"
      },
      "source": [
        "def plot_confusion_matrix(cm, classes,\n",
        "                          normalize=False,\n",
        "                          title='Confusion matrix',\n",
        "                          cmap=plt.cm.Blues):\n",
        "    \"\"\"\n",
        "    This function prints and plots the confusion matrix.\n",
        "    Normalization can be applied by setting `normalize=True`.\n",
        "    \"\"\"\n",
        "    if normalize:\n",
        "        cm = cm.astype('float') / cm.sum(axis=1)[:, np.newaxis]\n",
        "        print(\"Normalized confusion matrix\")\n",
        "    else:\n",
        "        print('Confusion matrix, without normalization')\n",
        "\n",
        "    print(cm)\n",
        "\n",
        "    plt.imshow(cm, interpolation='nearest', cmap=cmap)\n",
        "    plt.title(title)\n",
        "    plt.colorbar()\n",
        "    tick_marks = np.arange(len(classes))\n",
        "    plt.xticks(tick_marks, classes, rotation=45)\n",
        "    plt.yticks(tick_marks, classes)\n",
        "\n",
        "    fmt = '.2f' if normalize else 'd'\n",
        "    thresh = cm.max() / 2.\n",
        "    for i, j in itertools.product(range(cm.shape[0]), range(cm.shape[1])):\n",
        "        plt.text(j, i, format(cm[i, j], fmt),\n",
        "                 horizontalalignment=\"center\",\n",
        "                 color=\"white\" if cm[i, j] > thresh else \"black\")\n",
        "\n",
        "    plt.tight_layout()\n",
        "    plt.ylabel('True label')\n",
        "    plt.xlabel('Predicted label')"
      ],
      "execution_count": null,
      "outputs": []
    },
    {
      "cell_type": "code",
      "metadata": {
        "colab": {
          "base_uri": "https://localhost:8080/",
          "height": 1000
        },
        "id": "6wO80r5SOifl",
        "outputId": "3d381f9b-1e80-4c7a-c0c5-45c1e7a14262"
      },
      "source": [
        "# Compute confusion matrix\n",
        "print('The model evaluation of lda')\n",
        "cnf_matrix = confusion_matrix(y_test, y_test_pred, labels=[0,1])\n",
        "np.set_printoptions(precision=2)\n",
        "\n",
        "print (classification_report(y_test, y_test_pred))\n",
        "\n",
        "# Plot non-normalized confusion matrix\n",
        "plt.figure()\n",
        "plot_confusion_matrix(cnf_matrix, classes=['not_interested','interested'],normalize= False,  title='Confusion matrix')\n",
        "print('_____________________________________________________________________________________________________________')\n",
        "print('The model evaluation of svm')\n",
        "cnf_matrix = confusion_matrix(y_test, y_test_pred_1, labels=[0,1])\n",
        "np.set_printoptions(precision=2)\n",
        "\n",
        "print (classification_report(y_test, y_test_pred_1))\n",
        "\n",
        "# Plot non-normalized confusion matrix\n",
        "plt.figure()\n",
        "plot_confusion_matrix(cnf_matrix, classes=['not_interested','interested'],normalize= False,  title='Confusion matrix')\n",
        "print('_____________________________________________________________________________________________________________')\n",
        "print('The model evaluation of KNN')\n",
        "cnf_matrix = confusion_matrix(y_test, y_test_pred_2, labels=[0,1])\n",
        "np.set_printoptions(precision=2)\n",
        "\n",
        "print (classification_report(y_test, y_test_pred_2))\n",
        "\n",
        "# Plot non-normalized confusion matrix\n",
        "plt.figure()\n",
        "plot_confusion_matrix(cnf_matrix, classes=['not_interested','interested'],normalize= False,  title='Confusion matrix')\n",
        "print('_____________________________________________________________________________________________________________')\n",
        "print('The model evaluation of RF')\n",
        "cnf_matrix = confusion_matrix(y_test, y_test_pred_3, labels=[0,1])\n",
        "np.set_printoptions(precision=2)\n",
        "\n",
        "print (classification_report(y_test, y_test_pred_3))\n",
        "\n",
        "# Plot non-normalized confusion matrix\n",
        "plt.figure()\n",
        "plot_confusion_matrix(cnf_matrix, classes=['not_interested','interested'],normalize= False,  title='Confusion matrix')\n",
        "print('_____________________________________________________________________________________________________________')"
      ],
      "execution_count": null,
      "outputs": [
        {
          "output_type": "stream",
          "text": [
            "The model evaluation of lda\n",
            "              precision    recall  f1-score   support\n",
            "\n",
            "           0       0.91      0.98      0.95      1163\n",
            "           1       0.96      0.87      0.91       786\n",
            "\n",
            "    accuracy                           0.93      1949\n",
            "   macro avg       0.94      0.92      0.93      1949\n",
            "weighted avg       0.93      0.93      0.93      1949\n",
            "\n",
            "Confusion matrix, without normalization\n",
            "[[1137   26]\n",
            " [ 106  680]]\n",
            "_____________________________________________________________________________________________________________\n",
            "The model evaluation of svm\n",
            "              precision    recall  f1-score   support\n",
            "\n",
            "           0       1.00      1.00      1.00      1163\n",
            "           1       1.00      1.00      1.00       786\n",
            "\n",
            "    accuracy                           1.00      1949\n",
            "   macro avg       1.00      1.00      1.00      1949\n",
            "weighted avg       1.00      1.00      1.00      1949\n",
            "\n",
            "Confusion matrix, without normalization\n",
            "[[1162    1]\n",
            " [   2  784]]\n",
            "_____________________________________________________________________________________________________________\n",
            "The model evaluation of KNN\n",
            "              precision    recall  f1-score   support\n",
            "\n",
            "           0       1.00      0.99      1.00      1163\n",
            "           1       0.99      1.00      0.99       786\n",
            "\n",
            "    accuracy                           1.00      1949\n",
            "   macro avg       1.00      1.00      1.00      1949\n",
            "weighted avg       1.00      1.00      1.00      1949\n",
            "\n",
            "Confusion matrix, without normalization\n",
            "[[1156    7]\n",
            " [   1  785]]\n",
            "_____________________________________________________________________________________________________________\n",
            "The model evaluation of RF\n",
            "              precision    recall  f1-score   support\n",
            "\n",
            "           0       0.63      0.94      0.75      1163\n",
            "           1       0.65      0.17      0.27       786\n",
            "\n",
            "    accuracy                           0.63      1949\n",
            "   macro avg       0.64      0.55      0.51      1949\n",
            "weighted avg       0.63      0.63      0.56      1949\n",
            "\n",
            "Confusion matrix, without normalization\n",
            "[[1089   74]\n",
            " [ 651  135]]\n",
            "_____________________________________________________________________________________________________________\n"
          ],
          "name": "stdout"
        },
        {
          "output_type": "display_data",
          "data": {
            "image/png": "[encoded data removed]",
            "text/plain": [
              "<Figure size 432x288 with 2 Axes>"
            ]
          },
          "metadata": {
            "tags": [],
            "needs_background": "light"
          }
        },
        {
          "output_type": "display_data",
          "data": {
            "image/png": "[encoded data removed]",
            "text/plain": [
              "<Figure size 432x288 with 2 Axes>"
            ]
          },
          "metadata": {
            "tags": [],
            "needs_background": "light"
          }
        },
        {
          "output_type": "display_data",
          "data": {
            "image/png": "[encoded data removed]",
            "text/plain": [
              "<Figure size 432x288 with 2 Axes>"
            ]
          },
          "metadata": {
            "tags": [],
            "needs_background": "light"
          }
        },
        {
          "output_type": "display_data",
          "data": {
            "image/png": "[encoded data removed]",
            "text/plain": [
              "<Figure size 432x288 with 2 Axes>"
            ]
          },
          "metadata": {
            "tags": [],
            "needs_background": "light"
          }
        }
      ]
    },
    {
      "cell_type": "code",
      "metadata": {
        "colab": {
          "base_uri": "https://localhost:8080/"
        },
        "id": "NNVRwW3PSrp-",
        "outputId": "15836fcf-61b5-48f0-f55c-2964f3928107"
      },
      "source": [
        "from sklearn.model_selection import cross_val_score\n",
        "accuracies = cross_val_score(estimator = lda, X = X_train, y = y_train, cv = 10)\n",
        "print(\"Accuracy: {:.2f} %\".format(accuracies.mean()*100))\n",
        "print(\"Standard Deviation: {:.2f} %\".format(accuracies.std()*100))\n",
        "print('___________________________________________________________')\n",
        "accuracies_1 = cross_val_score(estimator = svmc, X = X_train[:, feat_cols_2], y = y_train, cv = 10)\n",
        "print(\"Accuracy: {:.2f} %\".format(accuracies_1.mean()*100))\n",
        "print(\"Standard Deviation: {:.2f} %\".format(accuracies_1.std()*100))\n",
        "print('___________________________________________________________')\n",
        "accuracies_2 = cross_val_score(estimator = knn, X = X_train[:, feat_cols_3], y = y_train, cv = 10)\n",
        "print(\"Accuracy: {:.2f} %\".format(accuracies_2.mean()*100))\n",
        "print(\"Standard Deviation: {:.2f} %\".format(accuracies_2.std()*100))\n",
        "print('___________________________________________________________')\n",
        "accuracies_3 = cross_val_score(estimator = rf, X = X_train[:, feat_cols_4], y = y_train, cv = 10)\n",
        "print(\"Accuracy: {:.2f} %\".format(accuracies_3.mean()*100))\n",
        "print(\"Standard Deviation: {:.2f} %\".format(accuracies_3.std()*100))\n",
        "print('___________________________________________________________')\n"
      ],
      "execution_count": null,
      "outputs": [
        {
          "output_type": "stream",
          "text": [
            "Accuracy: 95.89 %\n",
            "Standard Deviation: 0.52 %\n",
            "___________________________________________________________\n",
            "Accuracy: 99.76 %\n",
            "Standard Deviation: 0.09 %\n",
            "___________________________________________________________\n",
            "Accuracy: 99.55 %\n",
            "Standard Deviation: 0.22 %\n",
            "___________________________________________________________\n",
            "Accuracy: 99.69 %\n",
            "Standard Deviation: 0.24 %\n",
            "___________________________________________________________\n"
          ],
          "name": "stdout"
        }
      ]
    },
    {
      "cell_type": "code",
      "metadata": {
        "id": "M3Gp8VAIVcUt"
      },
      "source": [
        ""
      ],
      "execution_count": null,
      "outputs": []
    }
  ]
}