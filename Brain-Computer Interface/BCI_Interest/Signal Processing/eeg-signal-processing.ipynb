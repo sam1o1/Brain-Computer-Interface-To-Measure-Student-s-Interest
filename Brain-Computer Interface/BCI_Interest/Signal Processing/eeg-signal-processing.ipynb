{
 "cells": [
  {
   "cell_type": "code",
   "execution_count": 1,
   "id": "e03c468e",
   "metadata": {
    "execution": {
     "iopub.execute_input": "2021-10-02T04:57:22.839137Z",
     "iopub.status.busy": "2021-10-02T04:57:22.837982Z",
     "iopub.status.idle": "2021-10-02T04:57:32.427371Z",
     "shell.execute_reply": "2021-10-02T04:57:32.426414Z",
     "shell.execute_reply.started": "2021-09-29T21:36:10.748486Z"
    },
    "id": "lEy7s2bJoM9X",
    "outputId": "e8a68c47-8359-4b88-a903-5900777036e3",
    "papermill": {
     "duration": 9.638331,
     "end_time": "2021-10-02T04:57:32.427572",
     "exception": false,
     "start_time": "2021-10-02T04:57:22.789241",
     "status": "completed"
    },
    "tags": []
   },
   "outputs": [
    {
     "name": "stdout",
     "output_type": "stream",
     "text": [
      "Requirement already satisfied: mne in /opt/conda/lib/python3.7/site-packages (0.23.4)\r\n",
      "Requirement already satisfied: scipy>=1.1.0 in /opt/conda/lib/python3.7/site-packages (from mne) (1.7.1)\r\n",
      "Requirement already satisfied: numpy>=1.15.4 in /opt/conda/lib/python3.7/site-packages (from mne) (1.19.5)\r\n",
      "\u001b[33mWARNING: Running pip as the 'root' user can result in broken permissions and conflicting behaviour with the system package manager. It is recommended to use a virtual environment instead: https://pip.pypa.io/warnings/venv\u001b[0m\r\n",
      "Note: you may need to restart the kernel to use updated packages.\n"
     ]
    }
   ],
   "source": [
    "pip install mne"
   ]
  },
  {
   "cell_type": "markdown",
   "id": "4fcf9a20",
   "metadata": {
    "papermill": {
     "duration": 0.043678,
     "end_time": "2021-10-02T04:57:32.518411",
     "exception": false,
     "start_time": "2021-10-02T04:57:32.474733",
     "status": "completed"
    },
    "tags": []
   },
   "source": [
    "## Project Aim\n",
    "To sum up, our project is aiming to provide a practical and low cost solution for the complications that might be found in the real world’s engineering diesel engine laboratories through providing a virtual model that is characterized by the reality of the diesel engine lab, ease of use using only VR headset and input gloves and also provides additional features that would help students achieve maximum output through immersion with the machine and visualize everything that’s happening inside it.\n",
    "## Project objectives\n",
    "In order to achieve the project aim, we need to divide our project into three main objectives. First, we have to study the diesel engine lab in details and learn how to design a 3D simulation for the engine. After building the 3D model, the next step is to bring this model into a virtual world in which the student will be able to interact with our model. Now we have the VR world with our model inside. The next step is providing the hardware to be used to ensure the full immersion of the student with the virtual lab. We have decided to use human activity recognition input as a way of convincing the student’s mind? that everything around him is a reality rather than a virtual one to ensure full engagement. Finally, we need to work on the integration of all these parts to provide the best immersive learning experience.\n",
    "## The Brain Computer Interface\n",
    "Model evaluation is an essential phase in building engineering systems to ensure the quality and efficiency of the system. The proposed model is meant to replace the traditional mechanical labs that contain heave machines with a virtual-based technology that is assumed to be helpful in student’s understanding and interaction with machines. The challenge was how to evaluate the system so that student’s understanding can be indicated. After a lot of research, it’s found that a brain-computer interface (BCI) is the most suitable way to achieve that since it is widely used in applications similar to the one our team was working on.\n",
    "\n",
    "BCI is a system that uses electrodes to establish direct communication between the brain and an external device such computer or robotic arm. There are two ways to establish a BCI system the invasive and non-invasive. The invasive requires a surgical operation to insert the electrodes under the patient’s skin. On the other hand, the non-invasive does not require that it is implemented by placing the electrodes on one’s scalp. Electroencephalography (EEG) is the most well-known technique in building a non-invasive BCI system that captures the brain's electrical activity. The simplicity of use, mobility, lower cost, and high temporal resolution are the main reasons for EEG popularity and what motivated the team to use it. There are other alternatives, but they are not as efficient as the EEG.\n",
    "\n",
    "BCI is used in many useful applications such as stress detection, motor imagery tasks, and spinal cord rehabilitation. A typical BCI is used to retrieve data from the brain and send them to an external device to perform a certain task. In the proposed system BCI using EEG is only used to extract the signals and classify them to get specific information.\n",
    "For More information and details about the proposed system, you can read the project thesis from [here](https://drive.google.com/file/d/1TIZG_nHjvSIpkaF6ljJbaHdDGIdiOCbI/view?usp=sharing)"
   ]
  },
  {
   "cell_type": "markdown",
   "id": "50715737",
   "metadata": {
    "id": "Z5zWLuXSQyWC",
    "papermill": {
     "duration": 0.043646,
     "end_time": "2021-10-02T04:57:32.606100",
     "exception": false,
     "start_time": "2021-10-02T04:57:32.562454",
     "status": "completed"
    },
    "tags": []
   },
   "source": [
    "### Importing Packages "
   ]
  },
  {
   "cell_type": "code",
   "execution_count": 2,
   "id": "6ed02d0c",
   "metadata": {
    "execution": {
     "iopub.execute_input": "2021-10-02T04:57:32.702390Z",
     "iopub.status.busy": "2021-10-02T04:57:32.701635Z",
     "iopub.status.idle": "2021-10-02T04:57:36.028427Z",
     "shell.execute_reply": "2021-10-02T04:57:36.027638Z",
     "shell.execute_reply.started": "2021-10-02T04:40:57.473165Z"
    },
    "id": "nVXexeLop5NC",
    "papermill": {
     "duration": 3.378331,
     "end_time": "2021-10-02T04:57:36.028599",
     "exception": false,
     "start_time": "2021-10-02T04:57:32.650268",
     "status": "completed"
    },
    "tags": []
   },
   "outputs": [],
   "source": [
    "import mne\r\n",
    "# Importing numpy \r\n",
    "import numpy as np\r\n",
    "# Importing Scipy \r\n",
    "import scipy as sp\r\n",
    "# Importing Pandas Library \r\n",
    "import pandas as pd\r\n",
    "# import glob function to scrap files path\r\n",
    "from glob import glob\r\n",
    "# import display() for better visualitions of DataFrames and arrays\r\n",
    "from IPython.display import display\r\n",
    "# import pyplot for plotting\r\n",
    "import matplotlib.pyplot as plt\r\n",
    "import math\r\n",
    "from skimage.restoration import denoise_wavelet\r\n",
    "from scipy.signal import savgol_filter\r\n",
    "from scipy.signal import medfilt\r\n",
    "import seaborn as sns\r\n",
    "import pywt"
   ]
  },
  {
   "cell_type": "code",
   "execution_count": 3,
   "id": "50ed185e",
   "metadata": {
    "execution": {
     "iopub.execute_input": "2021-10-02T04:57:36.126425Z",
     "iopub.status.busy": "2021-10-02T04:57:36.125400Z",
     "iopub.status.idle": "2021-10-02T04:57:36.656607Z",
     "shell.execute_reply": "2021-10-02T04:57:36.657145Z",
     "shell.execute_reply.started": "2021-10-02T04:41:03.153595Z"
    },
    "id": "pCJKxIAhz7kc",
    "outputId": "2f25353b-7763-4c47-ce06-27ac7e8aaeb8",
    "papermill": {
     "duration": 0.5839,
     "end_time": "2021-10-02T04:57:36.657357",
     "exception": false,
     "start_time": "2021-10-02T04:57:36.073457",
     "status": "completed"
    },
    "tags": []
   },
   "outputs": [
    {
     "data": {
      "text/html": [
       "<div>\n",
       "<style scoped>\n",
       "    .dataframe tbody tr th:only-of-type {\n",
       "        vertical-align: middle;\n",
       "    }\n",
       "\n",
       "    .dataframe tbody tr th {\n",
       "        vertical-align: top;\n",
       "    }\n",
       "\n",
       "    .dataframe thead th {\n",
       "        text-align: right;\n",
       "    }\n",
       "</style>\n",
       "<table border=\"1\" class=\"dataframe\">\n",
       "  <thead>\n",
       "    <tr style=\"text-align: right;\">\n",
       "      <th></th>\n",
       "      <th>RAW</th>\n",
       "    </tr>\n",
       "  </thead>\n",
       "  <tbody>\n",
       "    <tr>\n",
       "      <th>0</th>\n",
       "      <td>129</td>\n",
       "    </tr>\n",
       "    <tr>\n",
       "      <th>1</th>\n",
       "      <td>-89</td>\n",
       "    </tr>\n",
       "    <tr>\n",
       "      <th>2</th>\n",
       "      <td>-379</td>\n",
       "    </tr>\n",
       "    <tr>\n",
       "      <th>3</th>\n",
       "      <td>-408</td>\n",
       "    </tr>\n",
       "    <tr>\n",
       "      <th>4</th>\n",
       "      <td>-124</td>\n",
       "    </tr>\n",
       "  </tbody>\n",
       "</table>\n",
       "</div>"
      ],
      "text/plain": [
       "   RAW\n",
       "0  129\n",
       "1  -89\n",
       "2 -379\n",
       "3 -408\n",
       "4 -124"
      ]
     },
     "execution_count": 3,
     "metadata": {},
     "output_type": "execute_result"
    },
    {
     "data": {
      "image/png": "[encoded data removed]",
      "text/plain": [
       "<Figure size 432x288 with 1 Axes>"
      ]
     },
     "metadata": {
      "needs_background": "light"
     },
     "output_type": "display_data"
    }
   ],
   "source": [
    "d_frame=pd.read_csv('../input/eeg-dataset-collected-from-students-using-vr/EEG_Dataset/Subject00_0.csv')        \r\n",
    "d_frame.drop(columns='TimeDate',inplace=True)          # converting the raw file to data frame\r\n",
    "plt.plot(d_frame['RAW'][0:])           # visualizing the first 10000 values of channel ECG ECG \r\n",
    "plt.xlabel('Time')\r\n",
    "plt.title('The first three seconds of subject_01 FP1 Channel')\r\n",
    "d_frame.head()\r\n"
   ]
  },
  {
   "cell_type": "code",
   "execution_count": 4,
   "id": "a5e7cd39",
   "metadata": {
    "execution": {
     "iopub.execute_input": "2021-10-02T04:57:36.756075Z",
     "iopub.status.busy": "2021-10-02T04:57:36.754941Z",
     "iopub.status.idle": "2021-10-02T04:57:37.044381Z",
     "shell.execute_reply": "2021-10-02T04:57:37.043704Z",
     "shell.execute_reply.started": "2021-10-02T04:41:04.872422Z"
    },
    "id": "6UiIz8Wmtwm_",
    "outputId": "29c8cd9b-0193-4428-ff50-6a38f0aa35d9",
    "papermill": {
     "duration": 0.340791,
     "end_time": "2021-10-02T04:57:37.044577",
     "exception": false,
     "start_time": "2021-10-02T04:57:36.703786",
     "status": "completed"
    },
    "tags": []
   },
   "outputs": [
    {
     "data": {
      "text/plain": [
       "Text(0.5, 1.0, 'The Distribution of the EEG FP1 ')"
      ]
     },
     "execution_count": 4,
     "metadata": {},
     "output_type": "execute_result"
    },
    {
     "data": {
      "image/png": "[encoded data removed]",
      "text/plain": [
       "<Figure size 432x288 with 1 Axes>"
      ]
     },
     "metadata": {
      "needs_background": "light"
     },
     "output_type": "display_data"
    }
   ],
   "source": [
    "d_frame['RAW'].hist()\r\n",
    "plt.xlabel('Time')\r\n",
    "plt.title('The Distribution of the EEG FP1 ')"
   ]
  },
  {
   "cell_type": "code",
   "execution_count": 5,
   "id": "f2cbba85",
   "metadata": {
    "execution": {
     "iopub.execute_input": "2021-10-02T04:57:37.148607Z",
     "iopub.status.busy": "2021-10-02T04:57:37.147899Z",
     "iopub.status.idle": "2021-10-02T04:57:37.159215Z",
     "shell.execute_reply": "2021-10-02T04:57:37.158518Z",
     "shell.execute_reply.started": "2021-10-02T04:41:06.359125Z"
    },
    "id": "N4Bal81YryqI",
    "papermill": {
     "duration": 0.066374,
     "end_time": "2021-10-02T04:57:37.159368",
     "exception": false,
     "start_time": "2021-10-02T04:57:37.092994",
     "status": "completed"
    },
    "tags": []
   },
   "outputs": [],
   "source": [
    "Raw_data_paths = sorted(glob(\"../input/eeg-dataset-collected-from-students-using-vr/EEG_Dataset/*\"))"
   ]
  },
  {
   "cell_type": "code",
   "execution_count": 6,
   "id": "6f6fb6f8",
   "metadata": {
    "execution": {
     "iopub.execute_input": "2021-10-02T04:57:37.262808Z",
     "iopub.status.busy": "2021-10-02T04:57:37.261918Z",
     "iopub.status.idle": "2021-10-02T04:57:37.266830Z",
     "shell.execute_reply": "2021-10-02T04:57:37.266169Z",
     "shell.execute_reply.started": "2021-10-02T04:41:07.880368Z"
    },
    "id": "YdX8TBoftA1R",
    "outputId": "9f86cec6-c65d-4041-da46-f1ac4c199b31",
    "papermill": {
     "duration": 0.059203,
     "end_time": "2021-10-02T04:57:37.266975",
     "exception": false,
     "start_time": "2021-10-02T04:57:37.207772",
     "status": "completed"
    },
    "tags": []
   },
   "outputs": [
    {
     "data": {
      "text/plain": [
       "6"
      ]
     },
     "execution_count": 6,
     "metadata": {},
     "output_type": "execute_result"
    }
   ],
   "source": [
    "len(Raw_data_paths)"
   ]
  },
  {
   "cell_type": "code",
   "execution_count": 7,
   "id": "b766cb17",
   "metadata": {
    "execution": {
     "iopub.execute_input": "2021-10-02T04:57:37.369382Z",
     "iopub.status.busy": "2021-10-02T04:57:37.368677Z",
     "iopub.status.idle": "2021-10-02T04:57:37.375855Z",
     "shell.execute_reply": "2021-10-02T04:57:37.375205Z",
     "shell.execute_reply.started": "2021-10-02T04:41:09.439217Z"
    },
    "papermill": {
     "duration": 0.060627,
     "end_time": "2021-10-02T04:57:37.376002",
     "exception": false,
     "start_time": "2021-10-02T04:57:37.315375",
     "status": "completed"
    },
    "tags": []
   },
   "outputs": [
    {
     "data": {
      "text/plain": [
       "['../input/eeg-dataset-collected-from-students-using-vr/EEG_Dataset/Readme.txt',\n",
       " '../input/eeg-dataset-collected-from-students-using-vr/EEG_Dataset/Subject00_0.csv',\n",
       " '../input/eeg-dataset-collected-from-students-using-vr/EEG_Dataset/Subject01_1.csv',\n",
       " '../input/eeg-dataset-collected-from-students-using-vr/EEG_Dataset/Subject02_0.csv',\n",
       " '../input/eeg-dataset-collected-from-students-using-vr/EEG_Dataset/Subject03_1.csv',\n",
       " '../input/eeg-dataset-collected-from-students-using-vr/EEG_Dataset/Subject04_0.csv']"
      ]
     },
     "execution_count": 7,
     "metadata": {},
     "output_type": "execute_result"
    }
   ],
   "source": [
    "Raw_data_paths"
   ]
  },
  {
   "cell_type": "code",
   "execution_count": 8,
   "id": "c1164b5e",
   "metadata": {
    "execution": {
     "iopub.execute_input": "2021-10-02T04:57:37.481607Z",
     "iopub.status.busy": "2021-10-02T04:57:37.480325Z",
     "iopub.status.idle": "2021-10-02T04:57:37.886603Z",
     "shell.execute_reply": "2021-10-02T04:57:37.885480Z",
     "shell.execute_reply.started": "2021-10-02T04:41:10.891812Z"
    },
    "papermill": {
     "duration": 0.462546,
     "end_time": "2021-10-02T04:57:37.886776",
     "exception": false,
     "start_time": "2021-10-02T04:57:37.424230",
     "status": "completed"
    },
    "tags": []
   },
   "outputs": [],
   "source": [
    "def create_student_data_dict(Raw_data_paths):\n",
    "    \"\"\"\n",
    "    This function creates a dictionary that contains students as keys \n",
    "    and the eeg data as values.\n",
    "    INPUT -----> the sorted list of student' EEG files.\n",
    "    OUTPUT ----> A python Dict that contains \n",
    "    keys: Students \n",
    "    Values: Data\n",
    "    \"\"\"\n",
    "    raw_dic={}                                   \n",
    "    for path_index in range(1,6):\n",
    "        key= Raw_data_paths[path_index][-15:-4]     # to extract the subjectxx-x from the files\n",
    "        data_frame=pd.read_csv(Raw_data_paths[path_index])\n",
    "        data_frame.drop(columns='TimeDate',inplace=True) \n",
    "        raw_dic[key]=data_frame\n",
    "    return raw_dic\n",
    "raw_dic=create_student_data_dict(Raw_data_paths)"
   ]
  },
  {
   "cell_type": "code",
   "execution_count": 9,
   "id": "d8e17b29",
   "metadata": {
    "execution": {
     "iopub.execute_input": "2021-10-02T04:57:37.990826Z",
     "iopub.status.busy": "2021-10-02T04:57:37.990099Z",
     "iopub.status.idle": "2021-10-02T04:57:37.996856Z",
     "shell.execute_reply": "2021-10-02T04:57:37.997378Z",
     "shell.execute_reply.started": "2021-10-02T04:41:13.056043Z"
    },
    "id": "5X8yidiny4Gt",
    "outputId": "f8cb4840-b938-4c61-a832-a32f141b69ff",
    "papermill": {
     "duration": 0.064229,
     "end_time": "2021-10-02T04:57:37.997685",
     "exception": false,
     "start_time": "2021-10-02T04:57:37.933456",
     "status": "completed"
    },
    "tags": []
   },
   "outputs": [
    {
     "name": "stdout",
     "output_type": "stream",
     "text": [
      "raw_dic contains 5 DataFrame\n"
     ]
    },
    {
     "data": {
      "text/html": [
       "<div>\n",
       "<style scoped>\n",
       "    .dataframe tbody tr th:only-of-type {\n",
       "        vertical-align: middle;\n",
       "    }\n",
       "\n",
       "    .dataframe tbody tr th {\n",
       "        vertical-align: top;\n",
       "    }\n",
       "\n",
       "    .dataframe thead th {\n",
       "        text-align: right;\n",
       "    }\n",
       "</style>\n",
       "<table border=\"1\" class=\"dataframe\">\n",
       "  <thead>\n",
       "    <tr style=\"text-align: right;\">\n",
       "      <th></th>\n",
       "      <th>RAW</th>\n",
       "    </tr>\n",
       "  </thead>\n",
       "  <tbody>\n",
       "    <tr>\n",
       "      <th>0</th>\n",
       "      <td>129</td>\n",
       "    </tr>\n",
       "    <tr>\n",
       "      <th>1</th>\n",
       "      <td>-89</td>\n",
       "    </tr>\n",
       "    <tr>\n",
       "      <th>2</th>\n",
       "      <td>-379</td>\n",
       "    </tr>\n",
       "    <tr>\n",
       "      <th>3</th>\n",
       "      <td>-408</td>\n",
       "    </tr>\n",
       "    <tr>\n",
       "      <th>4</th>\n",
       "      <td>-124</td>\n",
       "    </tr>\n",
       "    <tr>\n",
       "      <th>...</th>\n",
       "      <td>...</td>\n",
       "    </tr>\n",
       "    <tr>\n",
       "      <th>94130</th>\n",
       "      <td>18</td>\n",
       "    </tr>\n",
       "    <tr>\n",
       "      <th>94131</th>\n",
       "      <td>-246</td>\n",
       "    </tr>\n",
       "    <tr>\n",
       "      <th>94132</th>\n",
       "      <td>-169</td>\n",
       "    </tr>\n",
       "    <tr>\n",
       "      <th>94133</th>\n",
       "      <td>76</td>\n",
       "    </tr>\n",
       "    <tr>\n",
       "      <th>94134</th>\n",
       "      <td>76</td>\n",
       "    </tr>\n",
       "  </tbody>\n",
       "</table>\n",
       "<p>94135 rows × 1 columns</p>\n",
       "</div>"
      ],
      "text/plain": [
       "       RAW\n",
       "0      129\n",
       "1      -89\n",
       "2     -379\n",
       "3     -408\n",
       "4     -124\n",
       "...    ...\n",
       "94130   18\n",
       "94131 -246\n",
       "94132 -169\n",
       "94133   76\n",
       "94134   76\n",
       "\n",
       "[94135 rows x 1 columns]"
      ]
     },
     "execution_count": 9,
     "metadata": {},
     "output_type": "execute_result"
    }
   ],
   "source": [
    "# raw_dic is a dictionary contains 61 DF\r\n",
    "print('raw_dic contains %d DataFrame' % len(raw_dic))\r\n",
    "\r\n",
    "# print the first 3 rows of dataframe exp01_user01\r\n",
    "raw_dic['Subject00_0']"
   ]
  },
  {
   "cell_type": "code",
   "execution_count": 10,
   "id": "824f2d16",
   "metadata": {
    "execution": {
     "iopub.execute_input": "2021-10-02T04:57:38.102231Z",
     "iopub.status.busy": "2021-10-02T04:57:38.101350Z",
     "iopub.status.idle": "2021-10-02T04:57:38.107028Z",
     "shell.execute_reply": "2021-10-02T04:57:38.107540Z",
     "shell.execute_reply.started": "2021-10-02T04:41:14.494452Z"
    },
    "id": "1sp5IeuQV3hE",
    "outputId": "98a91563-edd4-4be1-90c7-761727bd808f",
    "papermill": {
     "duration": 0.060225,
     "end_time": "2021-10-02T04:57:38.107770",
     "exception": false,
     "start_time": "2021-10-02T04:57:38.047545",
     "status": "completed"
    },
    "tags": []
   },
   "outputs": [
    {
     "data": {
      "text/plain": [
       "1"
      ]
     },
     "execution_count": 10,
     "metadata": {},
     "output_type": "execute_result"
    }
   ],
   "source": [
    "number_of_channels= raw_dic['Subject00_0'].shape[1]\r\n",
    "number_of_channels"
   ]
  },
  {
   "cell_type": "code",
   "execution_count": 11,
   "id": "28a6ae0b",
   "metadata": {
    "execution": {
     "iopub.execute_input": "2021-10-02T04:57:38.208787Z",
     "iopub.status.busy": "2021-10-02T04:57:38.208145Z",
     "iopub.status.idle": "2021-10-02T04:57:38.214916Z",
     "shell.execute_reply": "2021-10-02T04:57:38.214210Z",
     "shell.execute_reply.started": "2021-10-02T04:41:15.947083Z"
    },
    "id": "jeKlD7VUWQkh",
    "outputId": "f2ded668-e57f-4d3a-ad10-9e564068e540",
    "papermill": {
     "duration": 0.058667,
     "end_time": "2021-10-02T04:57:38.215084",
     "exception": false,
     "start_time": "2021-10-02T04:57:38.156417",
     "status": "completed"
    },
    "tags": []
   },
   "outputs": [
    {
     "data": {
      "text/plain": [
       "Index(['RAW'], dtype='object')"
      ]
     },
     "execution_count": 11,
     "metadata": {},
     "output_type": "execute_result"
    }
   ],
   "source": [
    "names_of_channels=raw_dic['Subject01_1'].columns\r\n",
    "names_of_channels"
   ]
  },
  {
   "cell_type": "markdown",
   "id": "a6829598",
   "metadata": {
    "id": "TPQntBEQWm1o",
    "papermill": {
     "duration": 0.050164,
     "end_time": "2021-10-02T04:57:38.316128",
     "exception": false,
     "start_time": "2021-10-02T04:57:38.265964",
     "status": "completed"
    },
    "tags": []
   },
   "source": [
    "## Signal Processing \n",
    "The signal processing methods applied in the proposed system are the same as the authors in this [paper](https://www.ncbi.nlm.nih.gov/pmc/articles/PMC7278014/) used. The filters are defined using the [Scipy package](https://www.scipy.org/) to remove artifacts.\n",
    "\n",
    "The filters used are third-order:\n",
    "* `median filter`\n",
    "* `low pass filter`\n",
    "* `high pass filter`\n",
    "* `notch filter`\n",
    "\n",
    "For denoising and smoothing:\n",
    "\n",
    "* `wavelet denoising`\n",
    "* `Savitzky–Golay filter`\n",
    "\n",
    "First, the raw signals were filtered using the third-order median filter to remove the background noise. Then, the filtered signals were further filtered using low-pass and high-pass filters. A Butterworth filter with order 5 was used to design these filters at cutoff frequencies of 0.5 HZ and 50 HZ for the low and high filters respectively. The Butterworth filter is a signal processing filter with a frequency response in the passband that is as flat as possible.\n",
    "\n",
    "Subsequently, a notch filter was applied to reject power interference at 60 HZ. Furthermore, the signals were denoised using a de-noising method based on multilevel wavelet decomposition. The number of wavelet levels was 5, the mother wavelet was Symlets. Lastly, the signals were smoothed using the Savitzky–Golay filter."
   ]
  },
  {
   "cell_type": "code",
   "execution_count": 12,
   "id": "46210b51",
   "metadata": {
    "execution": {
     "iopub.execute_input": "2021-10-02T04:57:38.425821Z",
     "iopub.status.busy": "2021-10-02T04:57:38.424831Z",
     "iopub.status.idle": "2021-10-02T04:57:38.428126Z",
     "shell.execute_reply": "2021-10-02T04:57:38.427377Z",
     "shell.execute_reply.started": "2021-10-02T04:41:18.716830Z"
    },
    "id": "MlCFdh0zjbYZ",
    "papermill": {
     "duration": 0.061728,
     "end_time": "2021-10-02T04:57:38.428279",
     "exception": false,
     "start_time": "2021-10-02T04:57:38.366551",
     "status": "completed"
    },
    "tags": []
   },
   "outputs": [],
   "source": [
    "#band pass filter between 0.5 and 40 hz\r\n",
    "from scipy.signal import butter, lfilter\r\n",
    "def butter_bandpass(lowcut, highcut, fs, order=5):\r\n",
    "    nyq = 0.5 * fs\r\n",
    "    low = lowcut / nyq\r\n",
    "    high = highcut / nyq\r\n",
    "    b, a = butter(order, [low, high], btype='band')\r\n",
    "    return b, a\r\n",
    "def butter_bandpass_filter(data, lowcut, highcut, fs, order=5):\r\n",
    "    b, a = butter_bandpass(lowcut, highcut, fs, order=order)\r\n",
    "    y = lfilter(b, a, data)\r\n",
    "    return y"
   ]
  },
  {
   "cell_type": "code",
   "execution_count": 13,
   "id": "785c764c",
   "metadata": {
    "execution": {
     "iopub.execute_input": "2021-10-02T04:57:38.535835Z",
     "iopub.status.busy": "2021-10-02T04:57:38.534997Z",
     "iopub.status.idle": "2021-10-02T04:57:38.538131Z",
     "shell.execute_reply": "2021-10-02T04:57:38.538597Z",
     "shell.execute_reply.started": "2021-10-02T04:41:20.150922Z"
    },
    "id": "keCOXRp5yjqc",
    "papermill": {
     "duration": 0.060148,
     "end_time": "2021-10-02T04:57:38.538786",
     "exception": false,
     "start_time": "2021-10-02T04:57:38.478638",
     "status": "completed"
    },
    "tags": []
   },
   "outputs": [],
   "source": [
    "from scipy.signal import medfilt # import the median filter function\r\n",
    "def median(signal):# input: numpy array 1D (one column)\r\n",
    "    array=np.array(signal)   \r\n",
    "    #applying the median filter\r\n",
    "    med_filtered=sp.signal.medfilt(array, kernel_size=3) # applying the median filter order3(kernel_size=3)\r\n",
    "    return  med_filtered # return the med-filtered signal: numpy array 1D"
   ]
  },
  {
   "cell_type": "code",
   "execution_count": 14,
   "id": "34825950",
   "metadata": {
    "execution": {
     "iopub.execute_input": "2021-10-02T04:57:38.646485Z",
     "iopub.status.busy": "2021-10-02T04:57:38.645491Z",
     "iopub.status.idle": "2021-10-02T04:57:38.649087Z",
     "shell.execute_reply": "2021-10-02T04:57:38.648450Z",
     "shell.execute_reply.started": "2021-10-02T04:41:26.288112Z"
    },
    "id": "KovY9bOHlRL6",
    "papermill": {
     "duration": 0.060751,
     "end_time": "2021-10-02T04:57:38.649224",
     "exception": false,
     "start_time": "2021-10-02T04:57:38.588473",
     "status": "completed"
    },
    "tags": []
   },
   "outputs": [],
   "source": [
    "#notch filter apllied at 50hz\r\n",
    "def Implement_Notch_Filter(time, band, freq, ripple, order, filter_type, data):\r\n",
    "    from scipy.signal import iirfilter\r\n",
    "    fs   = 1/time\r\n",
    "    nyq  = fs/2.0\r\n",
    "    low  = freq - band/2.0\r\n",
    "    high = freq + band/2.0\r\n",
    "    low  = low/nyq\r\n",
    "    high = high/nyq\r\n",
    "    b, a = iirfilter(order, [low, high], rp=ripple, btype='bandstop',\r\n",
    "                     analog=False, ftype=filter_type)\r\n",
    "    filtered_data = lfilter(b, a, data)\r\n",
    "    return filtered_data"
   ]
  },
  {
   "cell_type": "code",
   "execution_count": 15,
   "id": "7cf7d601",
   "metadata": {
    "execution": {
     "iopub.execute_input": "2021-10-02T04:57:38.755392Z",
     "iopub.status.busy": "2021-10-02T04:57:38.754580Z",
     "iopub.status.idle": "2021-10-02T04:57:38.758358Z",
     "shell.execute_reply": "2021-10-02T04:57:38.757704Z",
     "shell.execute_reply.started": "2021-10-02T04:51:42.046251Z"
    },
    "papermill": {
     "duration": 0.06139,
     "end_time": "2021-10-02T04:57:38.758513",
     "exception": false,
     "start_time": "2021-10-02T04:57:38.697123",
     "status": "completed"
    },
    "tags": []
   },
   "outputs": [],
   "source": [
    "def SignalProcessing(raw_dic):\n",
    "    \n",
    "    \"\"\"\n",
    "    This function impelments the signal processing pipeline through\n",
    "    1- Median Filter \n",
    "    2-band pass filter \n",
    "    3-wavelet_denoise\n",
    "    4-savgol_filter\n",
    "    INPUT -------> the raw signals\n",
    "    OUTPUT ------> A dictionary that contains the denoised signals \n",
    "    \"\"\"\n",
    "    time_sig_dic={} # An empty dictionary will contains dataframes of all time domain signals\n",
    "    raw_dic_keys=sorted(raw_dic.keys()) # sorting dataframes' keys\n",
    "    for key in raw_dic_keys:\n",
    "        \n",
    "        raw_df=raw_dic[key]\n",
    "        time_sig_df=pd.DataFrame()\n",
    "        for column in raw_df.columns:\n",
    "            \n",
    "            t_signal=np.array(raw_df[column]) # copie the signal values in 1D numpy array\n",
    "            med_filtred=median(t_signal) # apply 3rd order median filter and store the filtred signal in med_filtred\n",
    "            fs = 50\n",
    "            lowcut = 0.05\n",
    "            highcut = 5\n",
    "            band_pass=butter_bandpass_filter(med_filtred, lowcut, highcut, fs, order=5)\n",
    "            #notch=Implement_Notch_Filter(0.02, 1, 50, 1, 2, 'butter',band_pass)\n",
    "            wavelet_denoise=denoise_wavelet(band_pass,method='BayesShrink',mode='hard',wavelet='sym9',wavelet_levels=5,rescale_sigma=True)\n",
    "            clean_signals=savgol_filter(wavelet_denoise, 1111, 3,mode='wrap')\n",
    "            time_sig_df[column]=clean_signals\n",
    "            time_sig_dic[key]=time_sig_df\n",
    "    return time_sig_dic"
   ]
  },
  {
   "cell_type": "code",
   "execution_count": 16,
   "id": "1ae10000",
   "metadata": {
    "execution": {
     "iopub.execute_input": "2021-10-02T04:57:38.861043Z",
     "iopub.status.busy": "2021-10-02T04:57:38.860134Z",
     "iopub.status.idle": "2021-10-02T04:57:39.530863Z",
     "shell.execute_reply": "2021-10-02T04:57:39.530234Z",
     "shell.execute_reply.started": "2021-10-02T04:52:47.510649Z"
    },
    "papermill": {
     "duration": 0.724358,
     "end_time": "2021-10-02T04:57:39.531030",
     "exception": false,
     "start_time": "2021-10-02T04:57:38.806672",
     "status": "completed"
    },
    "tags": []
   },
   "outputs": [],
   "source": [
    "time_sig_dic=SignalProcessing(raw_dic)"
   ]
  },
  {
   "cell_type": "code",
   "execution_count": 17,
   "id": "db5b9cfb",
   "metadata": {
    "execution": {
     "iopub.execute_input": "2021-10-02T04:57:39.641102Z",
     "iopub.status.busy": "2021-10-02T04:57:39.637667Z",
     "iopub.status.idle": "2021-10-02T04:57:39.646371Z",
     "shell.execute_reply": "2021-10-02T04:57:39.645434Z",
     "shell.execute_reply.started": "2021-10-02T04:52:49.247795Z"
    },
    "papermill": {
     "duration": 0.066619,
     "end_time": "2021-10-02T04:57:39.646526",
     "exception": false,
     "start_time": "2021-10-02T04:57:39.579907",
     "status": "completed"
    },
    "tags": []
   },
   "outputs": [
    {
     "data": {
      "text/html": [
       "<div>\n",
       "<style scoped>\n",
       "    .dataframe tbody tr th:only-of-type {\n",
       "        vertical-align: middle;\n",
       "    }\n",
       "\n",
       "    .dataframe tbody tr th {\n",
       "        vertical-align: top;\n",
       "    }\n",
       "\n",
       "    .dataframe thead th {\n",
       "        text-align: right;\n",
       "    }\n",
       "</style>\n",
       "<table border=\"1\" class=\"dataframe\">\n",
       "  <thead>\n",
       "    <tr style=\"text-align: right;\">\n",
       "      <th></th>\n",
       "      <th>Signl length</th>\n",
       "    </tr>\n",
       "  </thead>\n",
       "  <tbody>\n",
       "    <tr>\n",
       "      <th>0</th>\n",
       "      <td>94134</td>\n",
       "    </tr>\n",
       "    <tr>\n",
       "      <th>1</th>\n",
       "      <td>98644</td>\n",
       "    </tr>\n",
       "    <tr>\n",
       "      <th>2</th>\n",
       "      <td>97153</td>\n",
       "    </tr>\n",
       "    <tr>\n",
       "      <th>3</th>\n",
       "      <td>98767</td>\n",
       "    </tr>\n",
       "    <tr>\n",
       "      <th>4</th>\n",
       "      <td>98543</td>\n",
       "    </tr>\n",
       "  </tbody>\n",
       "</table>\n",
       "</div>"
      ],
      "text/plain": [
       "   Signl length\n",
       "0         94134\n",
       "1         98644\n",
       "2         97153\n",
       "3         98767\n",
       "4         98543"
      ]
     },
     "execution_count": 17,
     "metadata": {},
     "output_type": "execute_result"
    }
   ],
   "source": [
    "########################################################################################\n",
    "# Here I wanted to generate a df for the time length                                        \n",
    "########################################################################################\n",
    "time_list=[]\n",
    "for i in range (1,6):\n",
    "    time=(time_sig_dic[Raw_data_paths[i][-15:-4]].index.values[-1])\n",
    "    time_list.append(time)\n",
    "data=np.array(time_list)\n",
    "time_length=pd.DataFrame(data=data,columns=['Signl length'])\n",
    "time_length"
   ]
  },
  {
   "cell_type": "code",
   "execution_count": 18,
   "id": "430f2b77",
   "metadata": {
    "execution": {
     "iopub.execute_input": "2021-10-02T04:57:39.755605Z",
     "iopub.status.busy": "2021-10-02T04:57:39.754487Z",
     "iopub.status.idle": "2021-10-02T04:57:39.756861Z",
     "shell.execute_reply": "2021-10-02T04:57:39.757359Z",
     "shell.execute_reply.started": "2021-10-02T04:52:50.931039Z"
    },
    "id": "v9Z16Tf83Yv5",
    "papermill": {
     "duration": 0.060798,
     "end_time": "2021-10-02T04:57:39.757618",
     "exception": false,
     "start_time": "2021-10-02T04:57:39.696820",
     "status": "completed"
    },
    "tags": []
   },
   "outputs": [],
   "source": [
    "# example: 679 ==> '00679'; 50 ==> '00050'\r\n",
    "\r\n",
    "# it add '0's to the left of the input until the new lenght is equal to 5\r\n",
    "def normalize5(number): \r\n",
    "    stre=str(number)\r\n",
    "    if len(stre)<5:\r\n",
    "        l=len(stre)\r\n",
    "        for i in range(0,5-l):\r\n",
    "            stre=\"0\"+stre\r\n",
    "    return stre \r\n",
    "\r\n",
    "# it add '0's to the left of the input until the new lenght is equal to 2\r\n",
    "def normalize2(number):\r\n",
    "    stre=str(number)\r\n",
    "    if len(stre)<2:\r\n",
    "        stre=\"0\"+stre\r\n",
    "    return stre"
   ]
  },
  {
   "cell_type": "markdown",
   "id": "14a8e1f9",
   "metadata": {
    "papermill": {
     "duration": 0.049472,
     "end_time": "2021-10-02T04:57:39.859744",
     "exception": false,
     "start_time": "2021-10-02T04:57:39.810272",
     "status": "completed"
    },
    "tags": []
   },
   "source": [
    "## Windowing \n",
    "\n",
    "After filtering the signals, the clean signals were segmented using a sliding window. The process involved some steps. First, a 4-second width window was used to loop through the time-domain signal dividing it into small segments for 4 seconds each. The window width was decided based on the literature done. To decide whether the sliding window has to be overlapping or non-overlapping, both methods were tried. The result was that the overlapping method was more efficient and resulted in higher accuracy. We started with a 50% overlap.\n",
    "\n",
    "Then, we tried different values until the highest accuracy was achieved at a 4-second sliding window and 3-second overlap. The segments after that were converted from the time-domain to the frequency-domain using the Fast Fourier transform. In addition to that, the signals were obtained in the time-frequency domain as stated in the features extracted in the time-frequency domain result in getting a higher classification accuracy. The Wavelet transformation was used in converting the signals to the time-frequency domain."
   ]
  },
  {
   "cell_type": "code",
   "execution_count": 19,
   "id": "673baaa4",
   "metadata": {
    "execution": {
     "iopub.execute_input": "2021-10-02T04:57:39.970540Z",
     "iopub.status.busy": "2021-10-02T04:57:39.969422Z",
     "iopub.status.idle": "2021-10-02T04:57:39.971441Z",
     "shell.execute_reply": "2021-10-02T04:57:39.972052Z",
     "shell.execute_reply.started": "2021-10-02T04:52:53.507381Z"
    },
    "papermill": {
     "duration": 0.063091,
     "end_time": "2021-10-02T04:57:39.972224",
     "exception": false,
     "start_time": "2021-10-02T04:57:39.909133",
     "status": "completed"
    },
    "tags": []
   },
   "outputs": [],
   "source": [
    "def Windowing(time_sig_dic):\n",
    "    \n",
    "    \n",
    "    \"\"\"\n",
    "    This Function is used to segment the data to small windows through \n",
    "    looping over each dataframe's index and store each 4 secs of the data \n",
    "    in a single window with a key that has this pattern\n",
    "    the window size is calculated as follows:\n",
    "    wind_size=(1/Fs)*required_window_time_length\n",
    "    'Subject' + normalize2(int(subject_id))  +  '_' + str(state)\n",
    "    INPUT ----> The denoised signal dictionary \n",
    "    OUTPUT ---> A dictionary that contains the windows \n",
    "    \"\"\"\n",
    "    window_dict={} \n",
    "    columns=time_sig_dic['Subject02_0'].columns\n",
    "    \n",
    "    for subject_id , state in zip([0,1,2,3,4],[0,1,0,1,0]):\n",
    "        \n",
    "        \n",
    "    \n",
    "        file_key= 'Subject' + normalize2(int(subject_id))  +  '_' + str(state)\n",
    "        dic_update=raw_dic[file_key]\n",
    "        for sig_time in range(0,len(time_length)):\n",
    "            \n",
    "            \n",
    "            \n",
    "            sig_time_length=(time_length['Signl length'][sig_time])\n",
    "            window_ID=0\n",
    "            for cursor in range(0,(sig_time_length-199),50):\n",
    "                end_point=cursor+200\n",
    "                data=np.array(dic_update.iloc[cursor:end_point])\n",
    "                window=pd.DataFrame(data=data,columns=columns)\n",
    "                key='t_W'+normalize5(window_ID)+'_'+file_key\n",
    "                window_dict[key]=window\n",
    "                wind_dic=window_dict[key]\n",
    "                window_ID=window_ID+1\n",
    "    return window_dict"
   ]
  },
  {
   "cell_type": "code",
   "execution_count": 20,
   "id": "8aa73379",
   "metadata": {
    "execution": {
     "iopub.execute_input": "2021-10-02T04:57:40.501969Z",
     "iopub.status.busy": "2021-10-02T04:57:40.080940Z",
     "iopub.status.idle": "2021-10-02T04:57:45.467441Z",
     "shell.execute_reply": "2021-10-02T04:57:45.466803Z",
     "shell.execute_reply.started": "2021-10-02T04:52:54.633444Z"
    },
    "papermill": {
     "duration": 5.443925,
     "end_time": "2021-10-02T04:57:45.467621",
     "exception": false,
     "start_time": "2021-10-02T04:57:40.023696",
     "status": "completed"
    },
    "tags": []
   },
   "outputs": [],
   "source": [
    "window_dict=Windowing(time_sig_dic)"
   ]
  },
  {
   "cell_type": "code",
   "execution_count": 21,
   "id": "77490c6b",
   "metadata": {
    "execution": {
     "iopub.execute_input": "2021-10-02T04:57:45.584219Z",
     "iopub.status.busy": "2021-10-02T04:57:45.579264Z",
     "iopub.status.idle": "2021-10-02T04:57:45.616204Z",
     "shell.execute_reply": "2021-10-02T04:57:45.615593Z",
     "shell.execute_reply.started": "2021-10-02T04:52:59.863786Z"
    },
    "id": "KEX0WxV44GWF",
    "papermill": {
     "duration": 0.099947,
     "end_time": "2021-10-02T04:57:45.616350",
     "exception": false,
     "start_time": "2021-10-02T04:57:45.516403",
     "status": "completed"
    },
    "tags": []
   },
   "outputs": [],
   "source": [
    "new_frames = {k:v for (k,v) in window_dict.items() if not v.empty}"
   ]
  },
  {
   "cell_type": "code",
   "execution_count": 22,
   "id": "2a012f36",
   "metadata": {
    "execution": {
     "iopub.execute_input": "2021-10-02T04:57:45.719390Z",
     "iopub.status.busy": "2021-10-02T04:57:45.718428Z",
     "iopub.status.idle": "2021-10-02T04:57:45.722866Z",
     "shell.execute_reply": "2021-10-02T04:57:45.723368Z",
     "shell.execute_reply.started": "2021-10-02T04:53:02.161173Z"
    },
    "id": "ixisOwiCoNRT",
    "outputId": "5838c96d-f4ce-47ce-f4b2-0e6d8eafed69",
    "papermill": {
     "duration": 0.059019,
     "end_time": "2021-10-02T04:57:45.723578",
     "exception": false,
     "start_time": "2021-10-02T04:57:45.664559",
     "status": "completed"
    },
    "tags": []
   },
   "outputs": [
    {
     "data": {
      "text/plain": [
       "9742"
      ]
     },
     "execution_count": 22,
     "metadata": {},
     "output_type": "execute_result"
    }
   ],
   "source": [
    "len(new_frames)"
   ]
  },
  {
   "cell_type": "code",
   "execution_count": 23,
   "id": "0c22aa67",
   "metadata": {
    "execution": {
     "iopub.execute_input": "2021-10-02T04:57:45.827028Z",
     "iopub.status.busy": "2021-10-02T04:57:45.826322Z",
     "iopub.status.idle": "2021-10-02T04:57:45.834253Z",
     "shell.execute_reply": "2021-10-02T04:57:45.834830Z",
     "shell.execute_reply.started": "2021-10-02T04:53:03.288358Z"
    },
    "id": "yyIjxR1pPFKr",
    "outputId": "de8e4b5d-518e-4756-93f8-4c6f34034638",
    "papermill": {
     "duration": 0.061082,
     "end_time": "2021-10-02T04:57:45.835034",
     "exception": false,
     "start_time": "2021-10-02T04:57:45.773952",
     "status": "completed"
    },
    "tags": []
   },
   "outputs": [
    {
     "data": {
      "text/plain": [
       "'t_W00000_Subject00_0'"
      ]
     },
     "execution_count": 23,
     "metadata": {},
     "output_type": "execute_result"
    }
   ],
   "source": [
    "sorted(new_frames.keys())[0]"
   ]
  },
  {
   "cell_type": "markdown",
   "id": "23dadf0f",
   "metadata": {
    "id": "QFt2LpAzaA2R",
    "papermill": {
     "duration": 0.04942,
     "end_time": "2021-10-02T04:57:45.934220",
     "exception": false,
     "start_time": "2021-10-02T04:57:45.884800",
     "status": "completed"
    },
    "tags": []
   },
   "source": [
    "### Fourier Transform  "
   ]
  },
  {
   "cell_type": "code",
   "execution_count": 24,
   "id": "0df0526d",
   "metadata": {
    "execution": {
     "iopub.execute_input": "2021-10-02T04:57:46.047426Z",
     "iopub.status.busy": "2021-10-02T04:57:46.046578Z",
     "iopub.status.idle": "2021-10-02T04:57:46.061525Z",
     "shell.execute_reply": "2021-10-02T04:57:46.060949Z",
     "shell.execute_reply.started": "2021-10-02T04:53:05.483921Z"
    },
    "id": "HRuaxqOu4LN_",
    "papermill": {
     "duration": 0.077873,
     "end_time": "2021-10-02T04:57:46.061693",
     "exception": false,
     "start_time": "2021-10-02T04:57:45.983820",
     "status": "completed"
    },
    "tags": []
   },
   "outputs": [],
   "source": [
    "#Fourier transform function \r\n",
    "from scipy import fftpack # import fftpack to use all fft functions\r\n",
    "from numpy.fft import *\r\n",
    "##################### fast_fourier_transform_one_signal #################\r\n",
    "# Inputs: time signal 1D array\r\n",
    "# Output: amplitude of fft components 1D array having the same lenght as the Input\r\n",
    "def fast_fourier_transform_one_signal(t_signal):\r\n",
    "    # apply fast fourrier transform to the t_signal\r\n",
    "    complex_f_signal= fftpack.fft(t_signal)\r\n",
    "    #compute the amplitude each complex number\r\n",
    "    amplitude_f_signal=np.abs(complex_f_signal)\r\n",
    "    # return the amplitude\r\n",
    "    return amplitude_f_signal\r\n",
    "##################### fast fourier transform for data frames #################\r\n",
    "def fast_fourier_transform(t_window):\r\n",
    "  f_window=pd.DataFrame() # create an empty dataframe will include frequency domain signals of window\r\n",
    "  for column in t_window.columns: \r\n",
    "    t_signal=np.array(t_window[column]) # convert the column to a 1D numpy array\r\n",
    "    f_signal= np.apply_along_axis(fast_fourier_transform_one_signal,0,t_signal) # apply the function defined above to the column\r\n",
    "    f_window[\"freq_\"+column[0:]]=f_signal # storing the frequency signal in f_window with an appropriate column name\r\n",
    "  return f_window # return the frequency domain window"
   ]
  },
  {
   "cell_type": "code",
   "execution_count": 25,
   "id": "41e13de3",
   "metadata": {
    "execution": {
     "iopub.execute_input": "2021-10-02T04:57:46.171991Z",
     "iopub.status.busy": "2021-10-02T04:57:46.171301Z",
     "iopub.status.idle": "2021-10-02T04:57:59.874119Z",
     "shell.execute_reply": "2021-10-02T04:57:59.873534Z",
     "shell.execute_reply.started": "2021-10-02T04:53:07.882693Z"
    },
    "id": "7f-n8x9V4rkC",
    "papermill": {
     "duration": 13.762287,
     "end_time": "2021-10-02T04:57:59.874290",
     "exception": false,
     "start_time": "2021-10-02T04:57:46.112003",
     "status": "completed"
    },
    "tags": []
   },
   "outputs": [],
   "source": [
    "f_window_dict = {'f'+key[1:] : t_w1_df.pipe(fast_fourier_transform) for key, t_w1_df in new_frames.items()}"
   ]
  },
  {
   "cell_type": "code",
   "execution_count": 26,
   "id": "dffd2092",
   "metadata": {
    "execution": {
     "iopub.execute_input": "2021-10-02T04:57:59.977402Z",
     "iopub.status.busy": "2021-10-02T04:57:59.976713Z",
     "iopub.status.idle": "2021-10-02T04:58:00.028264Z",
     "shell.execute_reply": "2021-10-02T04:58:00.028772Z",
     "shell.execute_reply.started": "2021-10-02T04:53:21.517764Z"
    },
    "id": "TJ4A4tKs48U9",
    "papermill": {
     "duration": 0.104738,
     "end_time": "2021-10-02T04:58:00.028977",
     "exception": false,
     "start_time": "2021-10-02T04:57:59.924239",
     "status": "completed"
    },
    "tags": []
   },
   "outputs": [],
   "source": [
    "fnew_frames = {k:v for (k,v) in f_window_dict.items() if not v.empty}"
   ]
  },
  {
   "cell_type": "code",
   "execution_count": 27,
   "id": "3b11d3a0",
   "metadata": {
    "execution": {
     "iopub.execute_input": "2021-10-02T04:58:00.133590Z",
     "iopub.status.busy": "2021-10-02T04:58:00.132910Z",
     "iopub.status.idle": "2021-10-02T04:58:00.137962Z",
     "shell.execute_reply": "2021-10-02T04:58:00.138480Z",
     "shell.execute_reply.started": "2021-10-02T04:53:21.568132Z"
    },
    "id": "rO4wYxUfFdQE",
    "outputId": "572f9622-0b63-4848-96d3-07fd9dabd0f9",
    "papermill": {
     "duration": 0.058707,
     "end_time": "2021-10-02T04:58:00.138667",
     "exception": false,
     "start_time": "2021-10-02T04:58:00.079960",
     "status": "completed"
    },
    "tags": []
   },
   "outputs": [
    {
     "data": {
      "text/plain": [
       "9742"
      ]
     },
     "execution_count": 27,
     "metadata": {},
     "output_type": "execute_result"
    }
   ],
   "source": [
    "len(fnew_frames)"
   ]
  },
  {
   "cell_type": "markdown",
   "id": "6bb17761",
   "metadata": {
    "papermill": {
     "duration": 0.049568,
     "end_time": "2021-10-02T04:58:00.237933",
     "exception": false,
     "start_time": "2021-10-02T04:58:00.188365",
     "status": "completed"
    },
    "tags": []
   },
   "source": [
    "\n",
    "## Wavelet Transform "
   ]
  },
  {
   "cell_type": "code",
   "execution_count": 28,
   "id": "7e689c98",
   "metadata": {
    "execution": {
     "iopub.execute_input": "2021-10-02T04:58:00.341929Z",
     "iopub.status.busy": "2021-10-02T04:58:00.340946Z",
     "iopub.status.idle": "2021-10-02T04:58:00.345774Z",
     "shell.execute_reply": "2021-10-02T04:58:00.346294Z",
     "shell.execute_reply.started": "2021-10-02T04:53:28.559915Z"
    },
    "id": "vKv-6PCAfJKl",
    "papermill": {
     "duration": 0.058584,
     "end_time": "2021-10-02T04:58:00.346493",
     "exception": false,
     "start_time": "2021-10-02T04:58:00.287909",
     "status": "completed"
    },
    "tags": []
   },
   "outputs": [],
   "source": [
    "def tf(t_freq_signal):\n",
    "    \n",
    "    \"\"\"\n",
    "    This Function is to obtian the signals in the time-frequency domian.\n",
    "    \n",
    "    \"\"\"\n",
    "    (cA, cD) = pywt.dwt(t_freq_signal, 'db1')\n",
    "    x=np.concatenate((cD,cA),axis=0)\n",
    "    return x"
   ]
  },
  {
   "cell_type": "code",
   "execution_count": 29,
   "id": "795b002d",
   "metadata": {
    "execution": {
     "iopub.execute_input": "2021-10-02T04:58:00.450582Z",
     "iopub.status.busy": "2021-10-02T04:58:00.449726Z",
     "iopub.status.idle": "2021-10-02T04:58:13.204561Z",
     "shell.execute_reply": "2021-10-02T04:58:13.203465Z",
     "shell.execute_reply.started": "2021-10-02T04:53:30.261094Z"
    },
    "id": "QvjdqdRElcJO",
    "papermill": {
     "duration": 12.808006,
     "end_time": "2021-10-02T04:58:13.204724",
     "exception": false,
     "start_time": "2021-10-02T04:58:00.396718",
     "status": "completed"
    },
    "tags": []
   },
   "outputs": [],
   "source": [
    "time_freq_dic={}\n",
    "time_dic_keys=sorted(new_frames.keys())\n",
    "for k in time_dic_keys:\n",
    "  time_df=new_frames[k]\n",
    "  time_freq_df=pd.DataFrame()\n",
    "  for c in time_df.columns:\n",
    "    t_freq_signal=np.array(time_df[c])\n",
    "    sum_of_coff=np.apply_along_axis(tf,0,t_freq_signal)\n",
    "    time_freq_df['time_freq'+c]=sum_of_coff\n",
    "    time_freq_dic[k]=time_freq_df"
   ]
  },
  {
   "cell_type": "code",
   "execution_count": 30,
   "id": "a1714f11",
   "metadata": {
    "execution": {
     "iopub.execute_input": "2021-10-02T04:58:13.309880Z",
     "iopub.status.busy": "2021-10-02T04:58:13.309176Z",
     "iopub.status.idle": "2021-10-02T04:58:13.313059Z",
     "shell.execute_reply": "2021-10-02T04:58:13.312502Z",
     "shell.execute_reply.started": "2021-10-02T04:53:42.546522Z"
    },
    "id": "dt3gSCqlfm0y",
    "outputId": "8ed91d0e-e695-4844-fc86-fe6d39932ac5",
    "papermill": {
     "duration": 0.058842,
     "end_time": "2021-10-02T04:58:13.313212",
     "exception": false,
     "start_time": "2021-10-02T04:58:13.254370",
     "status": "completed"
    },
    "tags": []
   },
   "outputs": [
    {
     "data": {
      "text/plain": [
       "'time_freqRAW'"
      ]
     },
     "execution_count": 30,
     "metadata": {},
     "output_type": "execute_result"
    }
   ],
   "source": [
    "time_freq_dic['t_W00000_Subject00_0']\n",
    "time_freq_dic['t_W00000_Subject00_0'].columns[0]"
   ]
  },
  {
   "cell_type": "code",
   "execution_count": 31,
   "id": "e73b6fd5",
   "metadata": {
    "execution": {
     "iopub.execute_input": "2021-10-02T04:58:13.453420Z",
     "iopub.status.busy": "2021-10-02T04:58:13.442961Z",
     "iopub.status.idle": "2021-10-02T04:58:13.467846Z",
     "shell.execute_reply": "2021-10-02T04:58:13.467080Z",
     "shell.execute_reply.started": "2021-10-02T04:53:42.554967Z"
    },
    "id": "dKRmycm6qSve",
    "papermill": {
     "duration": 0.104927,
     "end_time": "2021-10-02T04:58:13.468014",
     "exception": false,
     "start_time": "2021-10-02T04:58:13.363087",
     "status": "completed"
    },
    "tags": []
   },
   "outputs": [],
   "source": [
    "t_f_newframes = {k:v for (k,v) in time_freq_dic.items() if not v.empty}"
   ]
  },
  {
   "cell_type": "code",
   "execution_count": 32,
   "id": "a17a6c55",
   "metadata": {
    "execution": {
     "iopub.execute_input": "2021-10-02T04:58:13.581659Z",
     "iopub.status.busy": "2021-10-02T04:58:13.580788Z",
     "iopub.status.idle": "2021-10-02T04:58:13.585135Z",
     "shell.execute_reply": "2021-10-02T04:58:13.584581Z",
     "shell.execute_reply.started": "2021-10-02T04:53:42.613752Z"
    },
    "id": "wMlXGRp3qvV8",
    "outputId": "2abc5803-ed6a-4795-ca00-632053627e66",
    "papermill": {
     "duration": 0.065263,
     "end_time": "2021-10-02T04:58:13.585281",
     "exception": false,
     "start_time": "2021-10-02T04:58:13.520018",
     "status": "completed"
    },
    "tags": []
   },
   "outputs": [
    {
     "data": {
      "text/html": [
       "<div>\n",
       "<style scoped>\n",
       "    .dataframe tbody tr th:only-of-type {\n",
       "        vertical-align: middle;\n",
       "    }\n",
       "\n",
       "    .dataframe tbody tr th {\n",
       "        vertical-align: top;\n",
       "    }\n",
       "\n",
       "    .dataframe thead th {\n",
       "        text-align: right;\n",
       "    }\n",
       "</style>\n",
       "<table border=\"1\" class=\"dataframe\">\n",
       "  <thead>\n",
       "    <tr style=\"text-align: right;\">\n",
       "      <th></th>\n",
       "      <th>time_freqRAW</th>\n",
       "    </tr>\n",
       "  </thead>\n",
       "  <tbody>\n",
       "    <tr>\n",
       "      <th>0</th>\n",
       "      <td>154.149278</td>\n",
       "    </tr>\n",
       "    <tr>\n",
       "      <th>1</th>\n",
       "      <td>20.506097</td>\n",
       "    </tr>\n",
       "    <tr>\n",
       "      <th>2</th>\n",
       "      <td>-282.842712</td>\n",
       "    </tr>\n",
       "    <tr>\n",
       "      <th>3</th>\n",
       "      <td>61.518290</td>\n",
       "    </tr>\n",
       "    <tr>\n",
       "      <th>4</th>\n",
       "      <td>67.175144</td>\n",
       "    </tr>\n",
       "    <tr>\n",
       "      <th>...</th>\n",
       "      <td>...</td>\n",
       "    </tr>\n",
       "    <tr>\n",
       "      <th>195</th>\n",
       "      <td>233.345238</td>\n",
       "    </tr>\n",
       "    <tr>\n",
       "      <th>196</th>\n",
       "      <td>614.475793</td>\n",
       "    </tr>\n",
       "    <tr>\n",
       "      <th>197</th>\n",
       "      <td>193.747258</td>\n",
       "    </tr>\n",
       "    <tr>\n",
       "      <th>198</th>\n",
       "      <td>-268.700577</td>\n",
       "    </tr>\n",
       "    <tr>\n",
       "      <th>199</th>\n",
       "      <td>-162.634560</td>\n",
       "    </tr>\n",
       "  </tbody>\n",
       "</table>\n",
       "<p>200 rows × 1 columns</p>\n",
       "</div>"
      ],
      "text/plain": [
       "     time_freqRAW\n",
       "0      154.149278\n",
       "1       20.506097\n",
       "2     -282.842712\n",
       "3       61.518290\n",
       "4       67.175144\n",
       "..            ...\n",
       "195    233.345238\n",
       "196    614.475793\n",
       "197    193.747258\n",
       "198   -268.700577\n",
       "199   -162.634560\n",
       "\n",
       "[200 rows x 1 columns]"
      ]
     },
     "execution_count": 32,
     "metadata": {},
     "output_type": "execute_result"
    }
   ],
   "source": [
    "t_f_newframes['t_W00000_Subject00_0']"
   ]
  },
  {
   "cell_type": "markdown",
   "id": "e9cf0b2f",
   "metadata": {
    "papermill": {
     "duration": 0.049794,
     "end_time": "2021-10-02T04:58:13.685070",
     "exception": false,
     "start_time": "2021-10-02T04:58:13.635276",
     "status": "completed"
    },
    "tags": []
   },
   "source": [
    " ## Feature Extraction\n",
    "The features extracted from each column in time, frequency, and time-frequency domains were: The mean x̄ of a data set is the sum of all the data divided by the count n.\n",
    "\n",
    "                   (Sum of terms)/(number of terms )\n",
    "The standard deviation is a statistic that measures the amount of variation or dispersion in a set of numbers. A low standard deviation implies that the values are close to the set's mean, whereas a high standard deviation shows that the values are dispersed across a larger range.\n",
    "\n",
    "                          σ= √∑(X_(i )-μ)/N\n",
    "σ = population standard deviation\n",
    "N = the size of the population\n",
    "X_(i ) = each value from the population\n",
    "μ = the population mean\n",
    "In statistics, the median absolute deviation is a robust measure of the variability of a univariate sample of quantitative data. It can also refer to the population parameter that is estimated by the MAD calculated from a sample.\n",
    "\n",
    "                  median absolute deviation=|X_(i )-mean|\n",
    "X_i = each value\n",
    "\n",
    "In descriptive statistics, the interquartile range, also called the midspread, middle 50%, or H‑spread, is a measure of statistical dispersion, being equal to the difference between 75th and 25th percentiles, or between upper and lower quartiles. In information theory, the entropy of a random variable is the average level of \"information\", \"surprise\", or \"uncertainty\" inherent in the variable's possible outcomes. In addition to the minimum and maximum value in each column. The entropy, energy, skewness, and kurtosis features that work well in classifying EEG data were also extracted from the data in the three domains."
   ]
  },
  {
   "cell_type": "code",
   "execution_count": 33,
   "id": "3bac8d0d",
   "metadata": {
    "execution": {
     "iopub.execute_input": "2021-10-02T04:58:13.798107Z",
     "iopub.status.busy": "2021-10-02T04:58:13.797426Z",
     "iopub.status.idle": "2021-10-02T04:58:13.836247Z",
     "shell.execute_reply": "2021-10-02T04:58:13.836744Z",
     "shell.execute_reply.started": "2021-10-02T04:53:45.663188Z"
    },
    "id": "EsEHjsiu5FOF",
    "outputId": "4452b4b6-f002-4d20-e4b4-b36285089f29",
    "papermill": {
     "duration": 0.101676,
     "end_time": "2021-10-02T04:58:13.836953",
     "exception": false,
     "start_time": "2021-10-02T04:58:13.735277",
     "status": "completed"
    },
    "tags": []
   },
   "outputs": [],
   "source": [
    "# df is dataframe contains 3 columns (3 axial signals X,Y,Z)\n",
    "\n",
    "# mean\n",
    "def mean_axial(df):\n",
    "    array=np.array(df) # convert dataframe into 2D numpy array for efficiency\n",
    "    mean_vector = array.mean(axis=0) # calculate the mean value of each column\n",
    "    return mean_vector # return mean vetor\n",
    "# std\n",
    "def std_axial(df):\n",
    "    array=np.array(df)# convert dataframe into 2D numpy array for efficiency\n",
    "    std_vector =array.std(axis=0)# calculate the standard deviation value of each column\n",
    "                     \n",
    "    return std_vector\n",
    "\n",
    "# mad\n",
    "from statsmodels.robust import mad as median_deviation # import the median deviation function\n",
    "def mad_axial(df):\n",
    "    array=np.array(df)# convert dataframe into 2D numpy array for efficiency\n",
    "    mad_vector = median_deviation(array,axis=0) # calculate the median deviation value of each column\n",
    "    return mad_vector\n",
    "\n",
    "# max\n",
    "\n",
    "def max_axial(df):\n",
    "    array=np.array(df)# convert dataframe into 2D numpy array for efficiency\n",
    "    max_vector=array.max(axis=0)# calculate the max value of each column\n",
    "    return max_vector\n",
    "# min\n",
    "def min_axial(df):\n",
    "    array=np.array(df)# convert dataframe into 2D numpy array for efficiency\n",
    "    min_vector=array.min(axis=0)# calculate the min value of each column\n",
    "    return min_vector\n",
    "# IQR\n",
    "from scipy.stats import iqr as IQR # import interquartile range function (Q3(column)-Q1(column))\n",
    "def IQR_axial(df):\n",
    "    array=np.array(df)# convert dataframe into 2D numpy array for efficiency\n",
    "    IQR_vector=np.apply_along_axis(IQR,0,array)# calculate the inter quartile range value of each column\n",
    "    return IQR_vector\n",
    "\n",
    "\n",
    "# Entropy\n",
    "from scipy.stats import entropy # import the entropy function\n",
    "def entropy_axial(df):\n",
    "    array=np.array(df)# convert dataframe into 2D numpy array for efficiency\n",
    "    entropy_vector=np.apply_along_axis(entropy,0,abs(array))# calculate the entropy value of each column\n",
    "    return entropy_vector"
   ]
  },
  {
   "cell_type": "code",
   "execution_count": 34,
   "id": "f87b8466",
   "metadata": {
    "execution": {
     "iopub.execute_input": "2021-10-02T04:58:13.941192Z",
     "iopub.status.busy": "2021-10-02T04:58:13.940252Z",
     "iopub.status.idle": "2021-10-02T04:58:25.747996Z",
     "shell.execute_reply": "2021-10-02T04:58:25.748525Z",
     "shell.execute_reply.started": "2021-10-02T04:53:49.783328Z"
    },
    "id": "Epti1Rc97dVL",
    "outputId": "2c16e9f2-2c72-4fa7-f3b6-5713e9d3c3f5",
    "papermill": {
     "duration": 11.861737,
     "end_time": "2021-10-02T04:58:25.748739",
     "exception": false,
     "start_time": "2021-10-02T04:58:13.887002",
     "status": "completed"
    },
    "tags": []
   },
   "outputs": [
    {
     "name": "stdout",
     "output_type": "stream",
     "text": [
      "Collecting spectrum\r\n",
      "  Downloading spectrum-0.8.0.tar.gz (228 kB)\r\n",
      "\u001b[K     |████████████████████████████████| 228 kB 825 kB/s \r\n",
      "\u001b[?25hRequirement already satisfied: numpy in /opt/conda/lib/python3.7/site-packages (from spectrum) (1.19.5)\r\n",
      "Requirement already satisfied: scipy in /opt/conda/lib/python3.7/site-packages (from spectrum) (1.7.1)\r\n",
      "Requirement already satisfied: matplotlib in /opt/conda/lib/python3.7/site-packages (from spectrum) (3.4.3)\r\n",
      "Requirement already satisfied: python-dateutil>=2.7 in /opt/conda/lib/python3.7/site-packages (from matplotlib->spectrum) (2.8.0)\r\n",
      "Requirement already satisfied: pyparsing>=2.2.1 in /opt/conda/lib/python3.7/site-packages (from matplotlib->spectrum) (2.4.7)\r\n",
      "Requirement already satisfied: pillow>=6.2.0 in /opt/conda/lib/python3.7/site-packages (from matplotlib->spectrum) (8.2.0)\r\n",
      "Requirement already satisfied: cycler>=0.10 in /opt/conda/lib/python3.7/site-packages (from matplotlib->spectrum) (0.10.0)\r\n",
      "Requirement already satisfied: kiwisolver>=1.0.1 in /opt/conda/lib/python3.7/site-packages (from matplotlib->spectrum) (1.3.1)\r\n",
      "Requirement already satisfied: six in /opt/conda/lib/python3.7/site-packages (from cycler>=0.10->matplotlib->spectrum) (1.15.0)\r\n",
      "Building wheels for collected packages: spectrum\r\n",
      "  Building wheel for spectrum (setup.py) ... \u001b[?25l-\b \b\\\b \b|\b \bdone\r\n",
      "\u001b[?25h  Created wheel for spectrum: filename=spectrum-0.8.0-cp37-cp37m-linux_x86_64.whl size=235814 sha256=caf85291e56c207daafe31bbb5d1e868d89b26623302208ce5bee067b8606115\r\n",
      "  Stored in directory: /root/.cache/pip/wheels/ac/a0/2b/aba9ac3cce046bc454a44d0db5b711b4e927a0dd33a93e9d98\r\n",
      "Successfully built spectrum\r\n",
      "Installing collected packages: spectrum\r\n",
      "Successfully installed spectrum-0.8.0\r\n",
      "\u001b[33mWARNING: Running pip as the 'root' user can result in broken permissions and conflicting behaviour with the system package manager. It is recommended to use a virtual environment instead: https://pip.pypa.io/warnings/venv\u001b[0m\r\n",
      "Note: you may need to restart the kernel to use updated packages.\n"
     ]
    }
   ],
   "source": [
    "pip install spectrum"
   ]
  },
  {
   "cell_type": "code",
   "execution_count": 35,
   "id": "3e997c36",
   "metadata": {
    "execution": {
     "iopub.execute_input": "2021-10-02T04:58:25.868154Z",
     "iopub.status.busy": "2021-10-02T04:58:25.867392Z",
     "iopub.status.idle": "2021-10-02T04:58:25.870132Z",
     "shell.execute_reply": "2021-10-02T04:58:25.870614Z",
     "shell.execute_reply.started": "2021-10-02T04:54:02.075780Z"
    },
    "id": "G9OAKcKV5wIV",
    "papermill": {
     "duration": 0.06532,
     "end_time": "2021-10-02T04:58:25.870903",
     "exception": false,
     "start_time": "2021-10-02T04:58:25.805583",
     "status": "completed"
    },
    "tags": []
   },
   "outputs": [],
   "source": [
    "# energy\n",
    "def t_energy_axial(df):\n",
    "    array=np.array(df)\n",
    "    energy_vector=(array**2).sum(axis=0) # energy value of each df column\n",
    "    return energy_vector # return energy vector energy_X,energy_Y,energy_Z"
   ]
  },
  {
   "cell_type": "code",
   "execution_count": 36,
   "id": "91f06687",
   "metadata": {
    "execution": {
     "iopub.execute_input": "2021-10-02T04:58:25.992740Z",
     "iopub.status.busy": "2021-10-02T04:58:25.992039Z",
     "iopub.status.idle": "2021-10-02T04:58:25.993473Z",
     "shell.execute_reply": "2021-10-02T04:58:25.994097Z",
     "shell.execute_reply.started": "2021-10-02T04:54:02.083350Z"
    },
    "id": "hRe-sdtJ7hvx",
    "papermill": {
     "duration": 0.067374,
     "end_time": "2021-10-02T04:58:25.994286",
     "exception": false,
     "start_time": "2021-10-02T04:58:25.926912",
     "status": "completed"
    },
    "tags": []
   },
   "outputs": [],
   "source": [
    "#Time Features PipeLine\n",
    "def t_axial_features_generation(t_window):\n",
    "  axial_columns=t_window.columns[0]\n",
    "  axial_df=t_window[axial_columns]\n",
    "  t_axial_features=[]\n",
    "  df=axial_df  \n",
    "  mean_vector   = list(mean_axial(t_window)) \n",
    "  std_vector    = list(std_axial(t_window)) \n",
    "  mad_vector    = list(mad_axial(t_window))\n",
    "  max_vector    = list(max_axial(t_window))\n",
    "  min_vector    = list(min_axial(t_window))\n",
    "  energy_vector = list(t_energy_axial(t_window))\n",
    "  IQR_vector    = list(IQR_axial(t_window))\n",
    "  entropy_vector= list(entropy_axial(t_window))\n",
    "  # 40 value per each 3-axial signals\n",
    "  t_3axial_vector= mean_vector + std_vector + mad_vector + max_vector + min_vector + energy_vector + IQR_vector + entropy_vector \n",
    "  t_axial_features= t_axial_features+ t_3axial_vector\n",
    "  return t_axial_features"
   ]
  },
  {
   "cell_type": "code",
   "execution_count": 37,
   "id": "1a72f3f0",
   "metadata": {
    "execution": {
     "iopub.execute_input": "2021-10-02T04:58:26.118263Z",
     "iopub.status.busy": "2021-10-02T04:58:26.117555Z",
     "iopub.status.idle": "2021-10-02T04:58:26.120636Z",
     "shell.execute_reply": "2021-10-02T04:58:26.120134Z",
     "shell.execute_reply.started": "2021-10-02T04:54:02.101889Z"
    },
    "id": "xcf40PBK9mO4",
    "papermill": {
     "duration": 0.068659,
     "end_time": "2021-10-02T04:58:26.120862",
     "exception": false,
     "start_time": "2021-10-02T04:58:26.052203",
     "status": "completed"
    },
    "tags": []
   },
   "outputs": [],
   "source": [
    "def time_features_names():\n",
    "    # Generating time feature names\n",
    "    t_axis_signals=[['EEG '],]\n",
    "    # functions' names:\n",
    "    t_one_input_features_name1=['_mean()','_std()','_mad()','_max()','_min()']\n",
    "    t_one_input_features_name2=['_energy()','_iqr()','_entropy()']\n",
    "    features=[]# Empty list : it will contain all time domain features' names\n",
    "    for columns in t_axis_signals: # iterate throw  each group of 3-channels'        \n",
    "        for feature in t_one_input_features_name1: # iterate throw the first list of functions names            \n",
    "            for column in columns: # iterate throw each axial signal in that group              \n",
    "                newcolumn=column+feature # build the feature name\n",
    "                features.append(newcolumn) # add it to the global list\n",
    "        for feature in t_one_input_features_name2: # same process for the second list of features functions\n",
    "            for column in columns:\n",
    "                newcolumn=column+feature\n",
    "                features.append(newcolumn)         \n",
    "    ###########################################################################################################\n",
    "    time_list_features=features\n",
    "    \n",
    "    return time_list_features # return all time domain features' names"
   ]
  },
  {
   "cell_type": "code",
   "execution_count": 38,
   "id": "80b58464",
   "metadata": {
    "execution": {
     "iopub.execute_input": "2021-10-02T04:58:26.240491Z",
     "iopub.status.busy": "2021-10-02T04:58:26.239804Z",
     "iopub.status.idle": "2021-10-02T04:58:26.242470Z",
     "shell.execute_reply": "2021-10-02T04:58:26.241927Z",
     "shell.execute_reply.started": "2021-10-02T04:54:02.113334Z"
    },
    "id": "J9vy8Yt5-429",
    "papermill": {
     "duration": 0.065771,
     "end_time": "2021-10-02T04:58:26.242621",
     "exception": false,
     "start_time": "2021-10-02T04:58:26.176850",
     "status": "completed"
    },
    "tags": []
   },
   "outputs": [],
   "source": [
    "#Frequency Features \n",
    "def f_energy_axial(df):\n",
    "    \n",
    "    array=np.array(df)\n",
    "    \n",
    "    # spectral energy vector\n",
    "    energy_vector=(array**2).sum(axis=0)/float(len(array))\n",
    "    \n",
    "    return energy_vector \n",
    "########## Skewness & Kurtosis Functions #######################################\n",
    "from scipy.stats import kurtosis       # kurtosis function\n",
    "from scipy.stats import skew           # skewness function\n",
    "    \n",
    "def f_skewness_and_kurtosis_axial(df):\n",
    "    array=np.array(df)\n",
    "    \n",
    "    skew_X= skew(array)  \n",
    "    kur_X= kurtosis(array)  \n",
    "    \n",
    "    #skew_Y= skew(array[:,1]) \n",
    "    #kur_Y= kurtosis(array[:,1])\n",
    "    \n",
    "    #skew_Z= skew(array[:,2])\n",
    "    #kur_Z= kurtosis(array[:,2])\n",
    "    \n",
    "    skew_kur_3axial_vector=[skew_X,kur_X]  #,skew_Y,kur_Y,skew_Z,kur_Z] \n",
    "    \n",
    "    return skew_kur_3axial_vector"
   ]
  },
  {
   "cell_type": "code",
   "execution_count": 39,
   "id": "86ca28bb",
   "metadata": {
    "execution": {
     "iopub.execute_input": "2021-10-02T04:58:26.359882Z",
     "iopub.status.busy": "2021-10-02T04:58:26.359166Z",
     "iopub.status.idle": "2021-10-02T04:58:26.362228Z",
     "shell.execute_reply": "2021-10-02T04:58:26.361631Z",
     "shell.execute_reply.started": "2021-10-02T04:54:02.128875Z"
    },
    "id": "mluGnNDJ-Kl_",
    "papermill": {
     "duration": 0.064275,
     "end_time": "2021-10-02T04:58:26.362390",
     "exception": false,
     "start_time": "2021-10-02T04:58:26.298115",
     "status": "completed"
    },
    "tags": []
   },
   "outputs": [],
   "source": [
    "#Time_freq features\n",
    "def t_f_skewness_and_kurtosis_axial(df):\n",
    "    array=np.array(df)\n",
    "    \n",
    "    skew_X= skew(array)  \n",
    "    kur_X= kurtosis(array)  \n",
    "    \n",
    "    #skew_Y= skew(array[:,1]) \n",
    "    #kur_Y= kurtosis(array[:,1])\n",
    "    \n",
    "    #skew_Z= skew(array[:,2])\n",
    "    #kur_Z= kurtosis(array[:,2])\n",
    "    \n",
    "    skew_kur_3axial_vector=[skew_X,kur_X]#,skew_Y,kur_Y,skew_Z,kur_Z] \n",
    "    \n",
    "    return skew_kur_3axial_vector\n"
   ]
  },
  {
   "cell_type": "code",
   "execution_count": 40,
   "id": "3d336a6a",
   "metadata": {
    "execution": {
     "iopub.execute_input": "2021-10-02T04:58:26.483421Z",
     "iopub.status.busy": "2021-10-02T04:58:26.482658Z",
     "iopub.status.idle": "2021-10-02T04:58:26.485213Z",
     "shell.execute_reply": "2021-10-02T04:58:26.485720Z",
     "shell.execute_reply.started": "2021-10-02T04:54:02.140530Z"
    },
    "id": "mO69V-fT_mS2",
    "papermill": {
     "duration": 0.067621,
     "end_time": "2021-10-02T04:58:26.485976",
     "exception": false,
     "start_time": "2021-10-02T04:58:26.418355",
     "status": "completed"
    },
    "tags": []
   },
   "outputs": [],
   "source": [
    "def f_axial_features_generation(f_window):\n",
    "\n",
    "\n",
    "  axial_columns=f_window.columns[0]\n",
    "  axial_df=f_window[axial_columns] \n",
    "  f_all_axial_features=[] \n",
    "  df=axial_df     \n",
    "  mean_vector   = list(mean_axial(f_window)) # 3values\n",
    "  std_vector    = list(std_axial(f_window)) # 3 values\n",
    "  mad_vector    = list(mad_axial(f_window))# 3 values\n",
    "  max_vector    = list(max_axial(f_window))# 3 values\n",
    "  min_vector    = list(min_axial(f_window))# 3 values\n",
    "  IQR_vector    = list(IQR_axial(f_window))# 3 values\n",
    "  entropy_vector= list(entropy_axial(f_window))# 3 values\n",
    "  energy_vector                = list(f_energy_axial(f_window))\n",
    "  skewness_and_kurtosis_vector = f_skewness_and_kurtosis_axial(f_window)# 6 values\n",
    "  f_3axial_features =  mean_vector +std_vector + mad_vector+max_vector+min_vector+  energy_vector + IQR_vector + entropy_vector +  skewness_and_kurtosis_vector  \n",
    "  f_all_axial_features = f_all_axial_features+ f_3axial_features # add features to the global list\n",
    "  return f_all_axial_features"
   ]
  },
  {
   "cell_type": "code",
   "execution_count": 41,
   "id": "a321754b",
   "metadata": {
    "execution": {
     "iopub.execute_input": "2021-10-02T04:58:26.606982Z",
     "iopub.status.busy": "2021-10-02T04:58:26.606229Z",
     "iopub.status.idle": "2021-10-02T04:58:26.609185Z",
     "shell.execute_reply": "2021-10-02T04:58:26.608489Z",
     "shell.execute_reply.started": "2021-10-02T04:54:02.157318Z"
    },
    "id": "E2vxaIyj-gTn",
    "papermill": {
     "duration": 0.066245,
     "end_time": "2021-10-02T04:58:26.609346",
     "exception": false,
     "start_time": "2021-10-02T04:58:26.543101",
     "status": "completed"
    },
    "tags": []
   },
   "outputs": [],
   "source": [
    "def t_f_axial_features_generation(t_f_window):\n",
    "  axial_columns=t_f_window.columns[0]\n",
    "  axial_df=t_f_window[axial_columns] \n",
    "  t_f_all_axial_features=[] \n",
    "  df=axial_df    \n",
    "  mean_vector   = list(mean_axial(t_f_window)) # 3values\n",
    "  std_vector    = list(std_axial(t_f_window)) # 3 values\n",
    "  mad_vector    = list(mad_axial(t_f_window))# 3 values\n",
    "  max_vector    = list(max_axial(t_f_window))# 3 values\n",
    "  min_vector    = list(min_axial(t_f_window))# 3 values\n",
    "  IQR_vector    = list(IQR_axial(t_f_window))# 3 values\n",
    "  entropy_vector= list(entropy_axial(t_f_window))# 3 values\n",
    "  #energy_vector                = f_energy_axial(df)\n",
    "  skewness_and_kurtosis_vector = t_f_skewness_and_kurtosis_axial(t_f_window)# 6 values\n",
    "  f_3axial_features =  mean_vector +std_vector + mad_vector+max_vector+min_vector+  IQR_vector + entropy_vector +  skewness_and_kurtosis_vector  \n",
    "  t_f_all_axial_features = t_f_all_axial_features+ f_3axial_features # add features to the global list\n",
    "  return t_f_all_axial_features"
   ]
  },
  {
   "cell_type": "code",
   "execution_count": 42,
   "id": "b5568466",
   "metadata": {
    "execution": {
     "iopub.execute_input": "2021-10-02T04:58:26.730150Z",
     "iopub.status.busy": "2021-10-02T04:58:26.729391Z",
     "iopub.status.idle": "2021-10-02T04:58:26.732505Z",
     "shell.execute_reply": "2021-10-02T04:58:26.731943Z",
     "shell.execute_reply.started": "2021-10-02T04:54:02.167544Z"
    },
    "id": "SIPu5V03A6e9",
    "papermill": {
     "duration": 0.067461,
     "end_time": "2021-10-02T04:58:26.732659",
     "exception": false,
     "start_time": "2021-10-02T04:58:26.665198",
     "status": "completed"
    },
    "tags": []
   },
   "outputs": [],
   "source": [
    "def frequency_features_names():\n",
    "    axial_signals=[['EEG ']]\n",
    "    # features functions names will be applied to f_signals\n",
    "    f_one_input_features_name1=['_mean()','_std()','_mad()','_max()','_min()']\n",
    "    f_one_input_features_name2=['_energy()','_iqr()','_entropy()']\n",
    "    f_one_input_features_name3= ['_skewness()','_kurtosis()']    \n",
    "    frequency_features_names=[] # global list of frequency features\n",
    "    for columns in axial_signals: # iterate throw each group of 3-axial signals\n",
    "        # iterate throw the first list of features\n",
    "        for feature in f_one_input_features_name1: \n",
    "            for column in columns:# iterate throw each signal name of that group\n",
    "                newcolumn=column+feature # build the full feature name\n",
    "                frequency_features_names.append(newcolumn) # add the feature name to the global list\n",
    "        # iterate throw the first list of features\n",
    "        for feature in f_one_input_features_name2:\n",
    "            for column in columns:\n",
    "                newcolumn=column+feature\n",
    "                frequency_features_names.append(newcolumn)\n",
    "        # iterate throw each signal name of that group\n",
    "        for column in columns:\n",
    "            for feature in f_one_input_features_name3: # iterate throw [skewness ,kurtosis]\n",
    "                newcolumn=column+feature # build full feature name\n",
    "                frequency_features_names.append(newcolumn) # append full feature names#\n",
    "    return frequency_features_names"
   ]
  },
  {
   "cell_type": "code",
   "execution_count": 43,
   "id": "904eb276",
   "metadata": {
    "execution": {
     "iopub.execute_input": "2021-10-02T04:58:26.853945Z",
     "iopub.status.busy": "2021-10-02T04:58:26.853186Z",
     "iopub.status.idle": "2021-10-02T04:58:26.856096Z",
     "shell.execute_reply": "2021-10-02T04:58:26.855515Z",
     "shell.execute_reply.started": "2021-10-02T04:54:02.185261Z"
    },
    "id": "Y4adtenPAt-c",
    "papermill": {
     "duration": 0.066834,
     "end_time": "2021-10-02T04:58:26.856283",
     "exception": false,
     "start_time": "2021-10-02T04:58:26.789449",
     "status": "completed"
    },
    "tags": []
   },
   "outputs": [],
   "source": [
    "def t_frequency_features_names():\n",
    "    axial_signals=[['EEG ']]\n",
    "    # features functions names will be applied to f_signals\n",
    "    f_one_input_features_name1=['_mean()','_std()','_mad()','_max()','_min()']\n",
    "    f_one_input_features_name2=['_iqr()','_entropy()']\n",
    "    f_one_input_features_name3= ['_skewness()','_kurtosis()']    \n",
    "    time_frequency_features_names=[] # global list of frequency features\n",
    "    for columns in axial_signals: # iterate throw each group of 3-axial signals\n",
    "        # iterate throw the first list of features\n",
    "        for feature in f_one_input_features_name1: \n",
    "            for column in columns:# iterate throw each signal name of that group\n",
    "                newcolumn=column+feature # build the full feature name\n",
    "                time_frequency_features_names.append(newcolumn) # add the feature name to the global list\n",
    "        # iterate throw the first list of features\n",
    "        for feature in f_one_input_features_name2:\n",
    "            for column in columns:\n",
    "                newcolumn=column+feature\n",
    "                time_frequency_features_names.append(newcolumn)\n",
    "        # iterate throw each signal name of that group\n",
    "        for column in columns:\n",
    "            for feature in f_one_input_features_name3: # iterate throw [skewness ,kurtosis]\n",
    "                newcolumn=column+feature # build full feature name\n",
    "                time_frequency_features_names.append(newcolumn) # append full feature names#\n",
    "    return time_frequency_features_names"
   ]
  },
  {
   "cell_type": "code",
   "execution_count": 44,
   "id": "c1fcd0aa",
   "metadata": {
    "execution": {
     "iopub.execute_input": "2021-10-02T04:58:26.978551Z",
     "iopub.status.busy": "2021-10-02T04:58:26.977864Z",
     "iopub.status.idle": "2021-10-02T04:58:26.980693Z",
     "shell.execute_reply": "2021-10-02T04:58:26.980171Z",
     "shell.execute_reply.started": "2021-10-02T04:54:02.199281Z"
    },
    "id": "N12khOy1BShx",
    "papermill": {
     "duration": 0.069089,
     "end_time": "2021-10-02T04:58:26.980888",
     "exception": false,
     "start_time": "2021-10-02T04:58:26.911799",
     "status": "completed"
    },
    "tags": []
   },
   "outputs": [],
   "source": [
    "# conctenate all features names lists and we add two other columns state and subject will be related to each row\n",
    "all_columns=time_features_names()+frequency_features_names()+t_frequency_features_names()+['state','subject']\n",
    "def Dataset_Generation_PipeLine(t_dic,f_dic,t_f_dic):\n",
    "    # t_dic is a dic contains time domain windows\n",
    "    final_Dataset=pd.DataFrame(data=[],columns= all_columns) # build an empty dataframe to append rows\n",
    "    for i in range(len(t_dic)): # iterate throw each window\n",
    "        # t_window and f_window should have the same window id included in their keys\n",
    "        t_key=sorted(t_dic.keys() )[i] # extract the key of t_window \n",
    "        f_key=sorted(f_dic.keys() )[i] # extract the key of f_window\n",
    "        t_f_key=sorted(t_f_dic.keys() )[i]\n",
    "        t_window=t_dic[t_key] # extract the t_window\n",
    "        f_window=f_dic[f_key] # extract the f_window\n",
    "        t_f_window=t_f_dic[t_f_key]\n",
    "\n",
    "        window_user_id= int(t_key[-4:-2]) # extract the user id from window's key\n",
    "        window_activity_id=int(t_key[-1]) # extract the activity id from the windows key\n",
    "        # generate all time features from t_window \n",
    "        time_features = t_axial_features_generation(t_window) \n",
    "        frequency_features = f_axial_features_generation(f_window)\n",
    "        time_freq_features=t_f_axial_features_generation(t_f_window)\n",
    "        # concatenate all features and append the activity id and the user id\n",
    "        row= time_features +frequency_features+time_freq_features+ [int(window_activity_id),int(window_user_id)]\n",
    "        # go to the first free index in the dataframe\n",
    "        free_index=len(final_Dataset)\n",
    "        # append the row\n",
    "        final_Dataset.loc[free_index]= row  \n",
    "    return final_Dataset # return the final dataset"
   ]
  },
  {
   "cell_type": "code",
   "execution_count": 45,
   "id": "a9f5b605",
   "metadata": {
    "execution": {
     "iopub.execute_input": "2021-10-02T04:58:27.119777Z",
     "iopub.status.busy": "2021-10-02T04:58:27.119078Z",
     "iopub.status.idle": "2021-10-02T05:01:18.701110Z",
     "shell.execute_reply": "2021-10-02T05:01:18.701875Z",
     "shell.execute_reply.started": "2021-10-02T04:54:02.212303Z"
    },
    "id": "_FbWekKIBXPZ",
    "papermill": {
     "duration": 171.664476,
     "end_time": "2021-10-02T05:01:18.702126",
     "exception": false,
     "start_time": "2021-10-02T04:58:27.037650",
     "status": "completed"
    },
    "tags": []
   },
   "outputs": [
    {
     "name": "stderr",
     "output_type": "stream",
     "text": [
      "/opt/conda/lib/python3.7/site-packages/numpy/core/_asarray.py:83: VisibleDeprecationWarning: Creating an ndarray from ragged nested sequences (which is a list-or-tuple of lists-or-tuples-or ndarrays with different lengths or shapes) is deprecated. If you meant to do this, you must specify 'dtype=object' when creating the ndarray\n",
      "  return array(a, dtype, copy=False, order=order)\n"
     ]
    }
   ],
   "source": [
    "Dataset= Dataset_Generation_PipeLine(new_frames,fnew_frames,t_f_newframes)"
   ]
  },
  {
   "cell_type": "code",
   "execution_count": 46,
   "id": "1679586e",
   "metadata": {
    "execution": {
     "iopub.execute_input": "2021-10-02T05:01:18.821520Z",
     "iopub.status.busy": "2021-10-02T05:01:18.820827Z",
     "iopub.status.idle": "2021-10-02T05:01:18.937878Z",
     "shell.execute_reply": "2021-10-02T05:01:18.937279Z",
     "shell.execute_reply.started": "2021-10-02T04:56:36.459816Z"
    },
    "id": "_v4B1AH9BahP",
    "outputId": "93362bee-415a-4c47-eb7d-8af64c31ea27",
    "papermill": {
     "duration": 0.177835,
     "end_time": "2021-10-02T05:01:18.938045",
     "exception": false,
     "start_time": "2021-10-02T05:01:18.760210",
     "status": "completed"
    },
    "tags": []
   },
   "outputs": [
    {
     "name": "stdout",
     "output_type": "stream",
     "text": [
      "The shape of Dataset is : (9742, 29)\n"
     ]
    },
    {
     "data": {
      "text/html": [
       "<div>\n",
       "<style scoped>\n",
       "    .dataframe tbody tr th:only-of-type {\n",
       "        vertical-align: middle;\n",
       "    }\n",
       "\n",
       "    .dataframe tbody tr th {\n",
       "        vertical-align: top;\n",
       "    }\n",
       "\n",
       "    .dataframe thead th {\n",
       "        text-align: right;\n",
       "    }\n",
       "</style>\n",
       "<table border=\"1\" class=\"dataframe\">\n",
       "  <thead>\n",
       "    <tr style=\"text-align: right;\">\n",
       "      <th></th>\n",
       "      <th>EEG _mean()</th>\n",
       "      <th>EEG _std()</th>\n",
       "      <th>EEG _mad()</th>\n",
       "      <th>EEG _iqr()</th>\n",
       "      <th>EEG _entropy()</th>\n",
       "      <th>EEG _mean()</th>\n",
       "      <th>EEG _std()</th>\n",
       "      <th>EEG _mad()</th>\n",
       "      <th>EEG _max()</th>\n",
       "      <th>EEG _min()</th>\n",
       "      <th>EEG _energy()</th>\n",
       "      <th>EEG _iqr()</th>\n",
       "      <th>EEG _entropy()</th>\n",
       "      <th>EEG _mean()</th>\n",
       "      <th>EEG _std()</th>\n",
       "      <th>EEG _mad()</th>\n",
       "      <th>EEG _max()</th>\n",
       "      <th>EEG _min()</th>\n",
       "      <th>EEG _iqr()</th>\n",
       "      <th>EEG _entropy()</th>\n",
       "    </tr>\n",
       "  </thead>\n",
       "  <tbody>\n",
       "    <tr>\n",
       "      <th>count</th>\n",
       "      <td>9742.000000</td>\n",
       "      <td>9742.000000</td>\n",
       "      <td>9742.000000</td>\n",
       "      <td>9742.000000</td>\n",
       "      <td>9742.000000</td>\n",
       "      <td>9742.000000</td>\n",
       "      <td>9742.000000</td>\n",
       "      <td>9742.000000</td>\n",
       "      <td>9742.000000</td>\n",
       "      <td>9742.000000</td>\n",
       "      <td>9.742000e+03</td>\n",
       "      <td>9742.000000</td>\n",
       "      <td>9742.000000</td>\n",
       "      <td>9742.000000</td>\n",
       "      <td>9742.000000</td>\n",
       "      <td>9742.000000</td>\n",
       "      <td>9742.000000</td>\n",
       "      <td>9742.000000</td>\n",
       "      <td>9742.000000</td>\n",
       "      <td>9742.000000</td>\n",
       "    </tr>\n",
       "    <tr>\n",
       "      <th>mean</th>\n",
       "      <td>49.241710</td>\n",
       "      <td>295.587689</td>\n",
       "      <td>343.231317</td>\n",
       "      <td>526.397018</td>\n",
       "      <td>5.116119</td>\n",
       "      <td>1760.970647</td>\n",
       "      <td>3932.927117</td>\n",
       "      <td>443.320742</td>\n",
       "      <td>31075.504015</td>\n",
       "      <td>110.657421</td>\n",
       "      <td>2.398388e+07</td>\n",
       "      <td>1263.131422</td>\n",
       "      <td>4.283873</td>\n",
       "      <td>34.813053</td>\n",
       "      <td>300.699405</td>\n",
       "      <td>267.735395</td>\n",
       "      <td>674.846468</td>\n",
       "      <td>-647.880528</td>\n",
       "      <td>360.870425</td>\n",
       "      <td>4.930832</td>\n",
       "    </tr>\n",
       "    <tr>\n",
       "      <th>std</th>\n",
       "      <td>38.223876</td>\n",
       "      <td>169.460790</td>\n",
       "      <td>192.227469</td>\n",
       "      <td>313.853300</td>\n",
       "      <td>0.075125</td>\n",
       "      <td>945.188146</td>\n",
       "      <td>2126.527087</td>\n",
       "      <td>253.114241</td>\n",
       "      <td>15713.431045</td>\n",
       "      <td>132.062612</td>\n",
       "      <td>2.247790e+07</td>\n",
       "      <td>663.822093</td>\n",
       "      <td>0.161942</td>\n",
       "      <td>27.057895</td>\n",
       "      <td>166.164376</td>\n",
       "      <td>162.535599</td>\n",
       "      <td>329.341130</td>\n",
       "      <td>405.786094</td>\n",
       "      <td>210.348426</td>\n",
       "      <td>0.132325</td>\n",
       "    </tr>\n",
       "    <tr>\n",
       "      <th>min</th>\n",
       "      <td>-384.815000</td>\n",
       "      <td>18.220867</td>\n",
       "      <td>20.756431</td>\n",
       "      <td>27.250000</td>\n",
       "      <td>1.382603</td>\n",
       "      <td>227.336213</td>\n",
       "      <td>336.302670</td>\n",
       "      <td>32.042736</td>\n",
       "      <td>848.000000</td>\n",
       "      <td>0.000000</td>\n",
       "      <td>1.757440e+05</td>\n",
       "      <td>88.801650</td>\n",
       "      <td>0.461368</td>\n",
       "      <td>-273.070497</td>\n",
       "      <td>29.423901</td>\n",
       "      <td>16.773729</td>\n",
       "      <td>33.941125</td>\n",
       "      <td>-2896.309376</td>\n",
       "      <td>22.273864</td>\n",
       "      <td>0.736067</td>\n",
       "    </tr>\n",
       "    <tr>\n",
       "      <th>25%</th>\n",
       "      <td>41.880000</td>\n",
       "      <td>192.234805</td>\n",
       "      <td>234.251151</td>\n",
       "      <td>351.250000</td>\n",
       "      <td>5.088626</td>\n",
       "      <td>1151.805410</td>\n",
       "      <td>2565.401461</td>\n",
       "      <td>220.332282</td>\n",
       "      <td>19264.033253</td>\n",
       "      <td>18.969379</td>\n",
       "      <td>7.936293e+06</td>\n",
       "      <td>821.234226</td>\n",
       "      <td>4.193544</td>\n",
       "      <td>29.410339</td>\n",
       "      <td>195.939657</td>\n",
       "      <td>169.309830</td>\n",
       "      <td>474.645427</td>\n",
       "      <td>-952.296058</td>\n",
       "      <td>231.931024</td>\n",
       "      <td>4.931767</td>\n",
       "    </tr>\n",
       "    <tr>\n",
       "      <th>50%</th>\n",
       "      <td>49.390000</td>\n",
       "      <td>267.748566</td>\n",
       "      <td>344.705016</td>\n",
       "      <td>470.750000</td>\n",
       "      <td>5.135806</td>\n",
       "      <td>1704.452661</td>\n",
       "      <td>3490.082241</td>\n",
       "      <td>456.662347</td>\n",
       "      <td>30200.740009</td>\n",
       "      <td>57.615504</td>\n",
       "      <td>1.490363e+07</td>\n",
       "      <td>1243.695925</td>\n",
       "      <td>4.303921</td>\n",
       "      <td>34.938146</td>\n",
       "      <td>270.624859</td>\n",
       "      <td>241.646538</td>\n",
       "      <td>659.023520</td>\n",
       "      <td>-545.886435</td>\n",
       "      <td>296.631295</td>\n",
       "      <td>4.985553</td>\n",
       "    </tr>\n",
       "    <tr>\n",
       "      <th>75%</th>\n",
       "      <td>56.678750</td>\n",
       "      <td>436.757096</td>\n",
       "      <td>513.721669</td>\n",
       "      <td>790.000000</td>\n",
       "      <td>5.156964</td>\n",
       "      <td>2534.339893</td>\n",
       "      <td>5691.912332</td>\n",
       "      <td>620.080933</td>\n",
       "      <td>42721.707708</td>\n",
       "      <td>152.722280</td>\n",
       "      <td>3.885157e+07</td>\n",
       "      <td>1723.967530</td>\n",
       "      <td>4.390913</td>\n",
       "      <td>40.262660</td>\n",
       "      <td>438.834741</td>\n",
       "      <td>397.327713</td>\n",
       "      <td>914.996175</td>\n",
       "      <td>-417.193001</td>\n",
       "      <td>548.007755</td>\n",
       "      <td>5.003716</td>\n",
       "    </tr>\n",
       "    <tr>\n",
       "      <th>max</th>\n",
       "      <td>630.265000</td>\n",
       "      <td>1289.697303</td>\n",
       "      <td>1667.186195</td>\n",
       "      <td>2399.250000</td>\n",
       "      <td>5.253676</td>\n",
       "      <td>6231.930604</td>\n",
       "      <td>17346.809698</td>\n",
       "      <td>1650.271519</td>\n",
       "      <td>151308.660491</td>\n",
       "      <td>952.794316</td>\n",
       "      <td>3.363288e+08</td>\n",
       "      <td>3883.131714</td>\n",
       "      <td>4.812922</td>\n",
       "      <td>445.236856</td>\n",
       "      <td>1293.332000</td>\n",
       "      <td>757.438715</td>\n",
       "      <td>2894.895162</td>\n",
       "      <td>-5.656854</td>\n",
       "      <td>1005.152289</td>\n",
       "      <td>5.080047</td>\n",
       "    </tr>\n",
       "  </tbody>\n",
       "</table>\n",
       "</div>"
      ],
      "text/plain": [
       "       EEG _mean()   EEG _std()   EEG _mad()   EEG _iqr()  EEG _entropy()  \\\n",
       "count  9742.000000  9742.000000  9742.000000  9742.000000     9742.000000   \n",
       "mean     49.241710   295.587689   343.231317   526.397018        5.116119   \n",
       "std      38.223876   169.460790   192.227469   313.853300        0.075125   \n",
       "min    -384.815000    18.220867    20.756431    27.250000        1.382603   \n",
       "25%      41.880000   192.234805   234.251151   351.250000        5.088626   \n",
       "50%      49.390000   267.748566   344.705016   470.750000        5.135806   \n",
       "75%      56.678750   436.757096   513.721669   790.000000        5.156964   \n",
       "max     630.265000  1289.697303  1667.186195  2399.250000        5.253676   \n",
       "\n",
       "       EEG _mean()    EEG _std()   EEG _mad()     EEG _max()   EEG _min()  \\\n",
       "count  9742.000000   9742.000000  9742.000000    9742.000000  9742.000000   \n",
       "mean   1760.970647   3932.927117   443.320742   31075.504015   110.657421   \n",
       "std     945.188146   2126.527087   253.114241   15713.431045   132.062612   \n",
       "min     227.336213    336.302670    32.042736     848.000000     0.000000   \n",
       "25%    1151.805410   2565.401461   220.332282   19264.033253    18.969379   \n",
       "50%    1704.452661   3490.082241   456.662347   30200.740009    57.615504   \n",
       "75%    2534.339893   5691.912332   620.080933   42721.707708   152.722280   \n",
       "max    6231.930604  17346.809698  1650.271519  151308.660491   952.794316   \n",
       "\n",
       "       EEG _energy()   EEG _iqr()  EEG _entropy()  EEG _mean()   EEG _std()  \\\n",
       "count   9.742000e+03  9742.000000     9742.000000  9742.000000  9742.000000   \n",
       "mean    2.398388e+07  1263.131422        4.283873    34.813053   300.699405   \n",
       "std     2.247790e+07   663.822093        0.161942    27.057895   166.164376   \n",
       "min     1.757440e+05    88.801650        0.461368  -273.070497    29.423901   \n",
       "25%     7.936293e+06   821.234226        4.193544    29.410339   195.939657   \n",
       "50%     1.490363e+07  1243.695925        4.303921    34.938146   270.624859   \n",
       "75%     3.885157e+07  1723.967530        4.390913    40.262660   438.834741   \n",
       "max     3.363288e+08  3883.131714        4.812922   445.236856  1293.332000   \n",
       "\n",
       "        EEG _mad()   EEG _max()   EEG _min()   EEG _iqr()  EEG _entropy()  \n",
       "count  9742.000000  9742.000000  9742.000000  9742.000000     9742.000000  \n",
       "mean    267.735395   674.846468  -647.880528   360.870425        4.930832  \n",
       "std     162.535599   329.341130   405.786094   210.348426        0.132325  \n",
       "min      16.773729    33.941125 -2896.309376    22.273864        0.736067  \n",
       "25%     169.309830   474.645427  -952.296058   231.931024        4.931767  \n",
       "50%     241.646538   659.023520  -545.886435   296.631295        4.985553  \n",
       "75%     397.327713   914.996175  -417.193001   548.007755        5.003716  \n",
       "max     757.438715  2894.895162    -5.656854  1005.152289        5.080047  "
      ]
     },
     "metadata": {},
     "output_type": "display_data"
    },
    {
     "data": {
      "text/html": [
       "<div>\n",
       "<style scoped>\n",
       "    .dataframe tbody tr th:only-of-type {\n",
       "        vertical-align: middle;\n",
       "    }\n",
       "\n",
       "    .dataframe tbody tr th {\n",
       "        vertical-align: top;\n",
       "    }\n",
       "\n",
       "    .dataframe thead th {\n",
       "        text-align: right;\n",
       "    }\n",
       "</style>\n",
       "<table border=\"1\" class=\"dataframe\">\n",
       "  <thead>\n",
       "    <tr style=\"text-align: right;\">\n",
       "      <th></th>\n",
       "      <th>EEG _mean()</th>\n",
       "      <th>EEG _std()</th>\n",
       "      <th>EEG _mad()</th>\n",
       "      <th>EEG _max()</th>\n",
       "      <th>EEG _min()</th>\n",
       "      <th>EEG _energy()</th>\n",
       "      <th>EEG _iqr()</th>\n",
       "      <th>EEG _entropy()</th>\n",
       "      <th>EEG _mean()</th>\n",
       "      <th>EEG _std()</th>\n",
       "      <th>...</th>\n",
       "      <th>EEG _std()</th>\n",
       "      <th>EEG _mad()</th>\n",
       "      <th>EEG _max()</th>\n",
       "      <th>EEG _min()</th>\n",
       "      <th>EEG _iqr()</th>\n",
       "      <th>EEG _entropy()</th>\n",
       "      <th>EEG _skewness()</th>\n",
       "      <th>EEG _kurtosis()</th>\n",
       "      <th>state</th>\n",
       "      <th>subject</th>\n",
       "    </tr>\n",
       "  </thead>\n",
       "  <tbody>\n",
       "    <tr>\n",
       "      <th>0</th>\n",
       "      <td>52.430</td>\n",
       "      <td>258.690733</td>\n",
       "      <td>330.620295</td>\n",
       "      <td>556</td>\n",
       "      <td>-587</td>\n",
       "      <td>13933960</td>\n",
       "      <td>438.00</td>\n",
       "      <td>5.075521</td>\n",
       "      <td>2165.547123</td>\n",
       "      <td>3040.454844</td>\n",
       "      <td>...</td>\n",
       "      <td>261.268170</td>\n",
       "      <td>253.702656</td>\n",
       "      <td>657.609307</td>\n",
       "      <td>-781.352993</td>\n",
       "      <td>268.700577</td>\n",
       "      <td>4.978994</td>\n",
       "      <td>[0.23563205449993696]</td>\n",
       "      <td>[0.2567534212600533]</td>\n",
       "      <td>0</td>\n",
       "      <td>0</td>\n",
       "    </tr>\n",
       "    <tr>\n",
       "      <th>1</th>\n",
       "      <td>61.125</td>\n",
       "      <td>552.757053</td>\n",
       "      <td>661.981891</td>\n",
       "      <td>950</td>\n",
       "      <td>-982</td>\n",
       "      <td>61855325</td>\n",
       "      <td>940.00</td>\n",
       "      <td>5.118838</td>\n",
       "      <td>3342.727579</td>\n",
       "      <td>7119.093856</td>\n",
       "      <td>...</td>\n",
       "      <td>554.300509</td>\n",
       "      <td>495.873373</td>\n",
       "      <td>1155.412480</td>\n",
       "      <td>-1288.348555</td>\n",
       "      <td>654.604103</td>\n",
       "      <td>5.004412</td>\n",
       "      <td>[-0.09053293193368092]</td>\n",
       "      <td>[-0.2438310636097314]</td>\n",
       "      <td>1</td>\n",
       "      <td>1</td>\n",
       "    </tr>\n",
       "    <tr>\n",
       "      <th>2</th>\n",
       "      <td>42.820</td>\n",
       "      <td>254.083781</td>\n",
       "      <td>303.192154</td>\n",
       "      <td>451</td>\n",
       "      <td>-475</td>\n",
       "      <td>13278424</td>\n",
       "      <td>468.50</td>\n",
       "      <td>5.150551</td>\n",
       "      <td>1821.133173</td>\n",
       "      <td>3156.247450</td>\n",
       "      <td>...</td>\n",
       "      <td>256.271441</td>\n",
       "      <td>229.590420</td>\n",
       "      <td>607.404725</td>\n",
       "      <td>-531.744299</td>\n",
       "      <td>312.364421</td>\n",
       "      <td>4.990480</td>\n",
       "      <td>[0.04465196580456052]</td>\n",
       "      <td>[-0.45158065412989945]</td>\n",
       "      <td>0</td>\n",
       "      <td>2</td>\n",
       "    </tr>\n",
       "    <tr>\n",
       "      <th>3</th>\n",
       "      <td>36.405</td>\n",
       "      <td>55.646572</td>\n",
       "      <td>58.562788</td>\n",
       "      <td>212</td>\n",
       "      <td>-135</td>\n",
       "      <td>884373</td>\n",
       "      <td>76.25</td>\n",
       "      <td>5.015599</td>\n",
       "      <td>537.079691</td>\n",
       "      <td>771.957515</td>\n",
       "      <td>...</td>\n",
       "      <td>61.646015</td>\n",
       "      <td>31.974922</td>\n",
       "      <td>275.771645</td>\n",
       "      <td>-140.007143</td>\n",
       "      <td>67.528698</td>\n",
       "      <td>4.749479</td>\n",
       "      <td>[0.763601574461734]</td>\n",
       "      <td>[1.458633910614151]</td>\n",
       "      <td>1</td>\n",
       "      <td>3</td>\n",
       "    </tr>\n",
       "    <tr>\n",
       "      <th>4</th>\n",
       "      <td>39.090</td>\n",
       "      <td>328.835281</td>\n",
       "      <td>372.874458</td>\n",
       "      <td>504</td>\n",
       "      <td>-643</td>\n",
       "      <td>21932134</td>\n",
       "      <td>595.00</td>\n",
       "      <td>5.168024</td>\n",
       "      <td>1841.607707</td>\n",
       "      <td>4305.881449</td>\n",
       "      <td>...</td>\n",
       "      <td>330.086042</td>\n",
       "      <td>322.370110</td>\n",
       "      <td>685.186471</td>\n",
       "      <td>-831.557575</td>\n",
       "      <td>428.329933</td>\n",
       "      <td>4.965934</td>\n",
       "      <td>[-0.25973713527909137]</td>\n",
       "      <td>[-0.30126908954078324]</td>\n",
       "      <td>0</td>\n",
       "      <td>4</td>\n",
       "    </tr>\n",
       "    <tr>\n",
       "      <th>5</th>\n",
       "      <td>87.425</td>\n",
       "      <td>235.291531</td>\n",
       "      <td>312.087767</td>\n",
       "      <td>556</td>\n",
       "      <td>-296</td>\n",
       "      <td>12601047</td>\n",
       "      <td>430.75</td>\n",
       "      <td>5.070777</td>\n",
       "      <td>1308.423552</td>\n",
       "      <td>3299.859817</td>\n",
       "      <td>...</td>\n",
       "      <td>243.286820</td>\n",
       "      <td>231.687136</td>\n",
       "      <td>671.751442</td>\n",
       "      <td>-393.151370</td>\n",
       "      <td>266.756033</td>\n",
       "      <td>4.971693</td>\n",
       "      <td>[0.6542085813972576]</td>\n",
       "      <td>[-0.11935998060420339]</td>\n",
       "      <td>0</td>\n",
       "      <td>0</td>\n",
       "    </tr>\n",
       "    <tr>\n",
       "      <th>6</th>\n",
       "      <td>55.950</td>\n",
       "      <td>562.119674</td>\n",
       "      <td>678.290515</td>\n",
       "      <td>887</td>\n",
       "      <td>-982</td>\n",
       "      <td>63821786</td>\n",
       "      <td>974.75</td>\n",
       "      <td>5.122006</td>\n",
       "      <td>3101.931665</td>\n",
       "      <td>7362.051748</td>\n",
       "      <td>...</td>\n",
       "      <td>563.571058</td>\n",
       "      <td>495.349194</td>\n",
       "      <td>1178.039897</td>\n",
       "      <td>-1288.348555</td>\n",
       "      <td>676.170860</td>\n",
       "      <td>5.018999</td>\n",
       "      <td>[-0.1054533654730595]</td>\n",
       "      <td>[-0.3220486565778522]</td>\n",
       "      <td>1</td>\n",
       "      <td>1</td>\n",
       "    </tr>\n",
       "    <tr>\n",
       "      <th>7</th>\n",
       "      <td>41.120</td>\n",
       "      <td>251.883595</td>\n",
       "      <td>300.226949</td>\n",
       "      <td>405</td>\n",
       "      <td>-475</td>\n",
       "      <td>13027240</td>\n",
       "      <td>469.50</td>\n",
       "      <td>5.154790</td>\n",
       "      <td>1518.355414</td>\n",
       "      <td>3274.421603</td>\n",
       "      <td>...</td>\n",
       "      <td>253.825607</td>\n",
       "      <td>233.259673</td>\n",
       "      <td>546.593542</td>\n",
       "      <td>-513.359523</td>\n",
       "      <td>314.132188</td>\n",
       "      <td>5.013378</td>\n",
       "      <td>[-0.011896383552453354]</td>\n",
       "      <td>[-0.5710498877700982]</td>\n",
       "      <td>0</td>\n",
       "      <td>2</td>\n",
       "    </tr>\n",
       "    <tr>\n",
       "      <th>8</th>\n",
       "      <td>96.825</td>\n",
       "      <td>100.890457</td>\n",
       "      <td>94.145241</td>\n",
       "      <td>400</td>\n",
       "      <td>-67</td>\n",
       "      <td>3910793</td>\n",
       "      <td>157.00</td>\n",
       "      <td>4.913140</td>\n",
       "      <td>727.520745</td>\n",
       "      <td>1838.887317</td>\n",
       "      <td>...</td>\n",
       "      <td>122.056708</td>\n",
       "      <td>42.982681</td>\n",
       "      <td>526.794552</td>\n",
       "      <td>-79.903066</td>\n",
       "      <td>119.324269</td>\n",
       "      <td>4.521686</td>\n",
       "      <td>[1.7564010321011125]</td>\n",
       "      <td>[2.433063930047842]</td>\n",
       "      <td>1</td>\n",
       "      <td>3</td>\n",
       "    </tr>\n",
       "    <tr>\n",
       "      <th>9</th>\n",
       "      <td>93.695</td>\n",
       "      <td>354.490130</td>\n",
       "      <td>358.789737</td>\n",
       "      <td>761</td>\n",
       "      <td>-643</td>\n",
       "      <td>26888401</td>\n",
       "      <td>587.75</td>\n",
       "      <td>5.158286</td>\n",
       "      <td>2293.042855</td>\n",
       "      <td>4650.844597</td>\n",
       "      <td>...</td>\n",
       "      <td>360.344826</td>\n",
       "      <td>314.507425</td>\n",
       "      <td>1043.689609</td>\n",
       "      <td>-831.557575</td>\n",
       "      <td>414.894904</td>\n",
       "      <td>4.936059</td>\n",
       "      <td>[0.10511065250001589]</td>\n",
       "      <td>[-0.016953576147273886]</td>\n",
       "      <td>0</td>\n",
       "      <td>4</td>\n",
       "    </tr>\n",
       "  </tbody>\n",
       "</table>\n",
       "<p>10 rows × 29 columns</p>\n",
       "</div>"
      ],
      "text/plain": [
       "   EEG _mean()  EEG _std()  EEG _mad()  EEG _max()  EEG _min() EEG _energy()  \\\n",
       "0       52.430  258.690733  330.620295         556        -587      13933960   \n",
       "1       61.125  552.757053  661.981891         950        -982      61855325   \n",
       "2       42.820  254.083781  303.192154         451        -475      13278424   \n",
       "3       36.405   55.646572   58.562788         212        -135        884373   \n",
       "4       39.090  328.835281  372.874458         504        -643      21932134   \n",
       "5       87.425  235.291531  312.087767         556        -296      12601047   \n",
       "6       55.950  562.119674  678.290515         887        -982      63821786   \n",
       "7       41.120  251.883595  300.226949         405        -475      13027240   \n",
       "8       96.825  100.890457   94.145241         400         -67       3910793   \n",
       "9       93.695  354.490130  358.789737         761        -643      26888401   \n",
       "\n",
       "   EEG _iqr()  EEG _entropy()  EEG _mean()   EEG _std()  ...  EEG _std()  \\\n",
       "0      438.00        5.075521  2165.547123  3040.454844  ...  261.268170   \n",
       "1      940.00        5.118838  3342.727579  7119.093856  ...  554.300509   \n",
       "2      468.50        5.150551  1821.133173  3156.247450  ...  256.271441   \n",
       "3       76.25        5.015599   537.079691   771.957515  ...   61.646015   \n",
       "4      595.00        5.168024  1841.607707  4305.881449  ...  330.086042   \n",
       "5      430.75        5.070777  1308.423552  3299.859817  ...  243.286820   \n",
       "6      974.75        5.122006  3101.931665  7362.051748  ...  563.571058   \n",
       "7      469.50        5.154790  1518.355414  3274.421603  ...  253.825607   \n",
       "8      157.00        4.913140   727.520745  1838.887317  ...  122.056708   \n",
       "9      587.75        5.158286  2293.042855  4650.844597  ...  360.344826   \n",
       "\n",
       "   EEG _mad()   EEG _max()   EEG _min()  EEG _iqr()  EEG _entropy()  \\\n",
       "0  253.702656   657.609307  -781.352993  268.700577        4.978994   \n",
       "1  495.873373  1155.412480 -1288.348555  654.604103        5.004412   \n",
       "2  229.590420   607.404725  -531.744299  312.364421        4.990480   \n",
       "3   31.974922   275.771645  -140.007143   67.528698        4.749479   \n",
       "4  322.370110   685.186471  -831.557575  428.329933        4.965934   \n",
       "5  231.687136   671.751442  -393.151370  266.756033        4.971693   \n",
       "6  495.349194  1178.039897 -1288.348555  676.170860        5.018999   \n",
       "7  233.259673   546.593542  -513.359523  314.132188        5.013378   \n",
       "8   42.982681   526.794552   -79.903066  119.324269        4.521686   \n",
       "9  314.507425  1043.689609  -831.557575  414.894904        4.936059   \n",
       "\n",
       "           EEG _skewness()          EEG _kurtosis()  state  subject  \n",
       "0    [0.23563205449993696]     [0.2567534212600533]      0        0  \n",
       "1   [-0.09053293193368092]    [-0.2438310636097314]      1        1  \n",
       "2    [0.04465196580456052]   [-0.45158065412989945]      0        2  \n",
       "3      [0.763601574461734]      [1.458633910614151]      1        3  \n",
       "4   [-0.25973713527909137]   [-0.30126908954078324]      0        4  \n",
       "5     [0.6542085813972576]   [-0.11935998060420339]      0        0  \n",
       "6    [-0.1054533654730595]    [-0.3220486565778522]      1        1  \n",
       "7  [-0.011896383552453354]    [-0.5710498877700982]      0        2  \n",
       "8     [1.7564010321011125]      [2.433063930047842]      1        3  \n",
       "9    [0.10511065250001589]  [-0.016953576147273886]      0        4  \n",
       "\n",
       "[10 rows x 29 columns]"
      ]
     },
     "metadata": {},
     "output_type": "display_data"
    }
   ],
   "source": [
    "print('The shape of Dataset is :',Dataset.shape) # shape of the dataset \n",
    "display(Dataset.describe()) # statistical description\n",
    "display(Dataset.head(10)) # the first three rows"
   ]
  },
  {
   "cell_type": "code",
   "execution_count": 47,
   "id": "d387e606",
   "metadata": {
    "execution": {
     "iopub.execute_input": "2021-10-02T05:01:19.061711Z",
     "iopub.status.busy": "2021-10-02T05:01:19.060804Z",
     "iopub.status.idle": "2021-10-02T05:01:22.320647Z",
     "shell.execute_reply": "2021-10-02T05:01:22.321176Z",
     "shell.execute_reply.started": "2021-10-02T04:56:55.246782Z"
    },
    "id": "F1d-P2qiIzrv",
    "papermill": {
     "duration": 3.324356,
     "end_time": "2021-10-02T05:01:22.321388",
     "exception": false,
     "start_time": "2021-10-02T05:01:18.997032",
     "status": "completed"
    },
    "tags": []
   },
   "outputs": [],
   "source": [
    "\n",
    "path=\"./EEG_Clean_Data.csv\" \n",
    "Dataset.to_csv(path_or_buf=path, na_rep='NaN',  \n",
    "             columns=None, header=True, \n",
    "             index=False, mode='w', \n",
    "             encoding='utf-8',  \n",
    "             line_terminator='\\n', \n",
    "             )"
   ]
  },
  {
   "cell_type": "code",
   "execution_count": null,
   "id": "a65c23d8",
   "metadata": {
    "papermill": {
     "duration": 0.057937,
     "end_time": "2021-10-02T05:01:22.439031",
     "exception": false,
     "start_time": "2021-10-02T05:01:22.381094",
     "status": "completed"
    },
    "tags": []
   },
   "outputs": [],
   "source": []
  }
 ],
 "metadata": {
  "kernelspec": {
   "display_name": "Python 3",
   "language": "python",
   "name": "python3"
  },
  "language_info": {
   "codemirror_mode": {
    "name": "ipython",
    "version": 3
   },
   "file_extension": ".py",
   "mimetype": "text/x-python",
   "name": "python",
   "nbconvert_exporter": "python",
   "pygments_lexer": "ipython3",
   "version": "3.7.10"
  },
  "papermill": {
   "default_parameters": {},
   "duration": 251.085424,
   "end_time": "2021-10-02T05:01:25.128102",
   "environment_variables": {},
   "exception": null,
   "input_path": "__notebook__.ipynb",
   "output_path": "__notebook__.ipynb",
   "parameters": {},
   "start_time": "2021-10-02T04:57:14.042678",
   "version": "2.3.3"
  }
 },
 "nbformat": 4,
 "nbformat_minor": 5
}
